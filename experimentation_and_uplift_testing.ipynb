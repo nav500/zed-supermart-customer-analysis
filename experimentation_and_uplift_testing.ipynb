{
 "cells": [
  {
   "cell_type": "markdown",
   "id": "c678aaf8-3cd5-446b-bc67-953663d15d47",
   "metadata": {},
   "source": [
    "# Experimentation and uplift testing"
   ]
  },
  {
   "cell_type": "markdown",
   "id": "bad8e6b8-196f-43eb-8fa3-99ffffeafe14",
   "metadata": {},
   "source": [
    "## Load data"
   ]
  },
  {
   "cell_type": "code",
   "execution_count": 11,
   "id": "aab6566a-5632-4036-a32f-ac4d7e0a4814",
   "metadata": {},
   "outputs": [],
   "source": [
    "import pandas as pd"
   ]
  },
  {
   "cell_type": "code",
   "execution_count": 12,
   "id": "20df2c7a-eb2e-4724-90fe-88a7341da0af",
   "metadata": {},
   "outputs": [
    {
     "data": {
      "text/html": [
       "<div>\n",
       "<style scoped>\n",
       "    .dataframe tbody tr th:only-of-type {\n",
       "        vertical-align: middle;\n",
       "    }\n",
       "\n",
       "    .dataframe tbody tr th {\n",
       "        vertical-align: top;\n",
       "    }\n",
       "\n",
       "    .dataframe thead th {\n",
       "        text-align: right;\n",
       "    }\n",
       "</style>\n",
       "<table border=\"1\" class=\"dataframe\">\n",
       "  <thead>\n",
       "    <tr style=\"text-align: right;\">\n",
       "      <th></th>\n",
       "      <th>LYLTY_CARD_NBR</th>\n",
       "      <th>DATE</th>\n",
       "      <th>STORE_NBR</th>\n",
       "      <th>TXN_ID</th>\n",
       "      <th>PROD_NBR</th>\n",
       "      <th>PROD_NAME</th>\n",
       "      <th>PROD_QTY</th>\n",
       "      <th>TOT_SALES</th>\n",
       "      <th>PACK_SIZE</th>\n",
       "      <th>BRAND</th>\n",
       "      <th>LIFESTAGE</th>\n",
       "      <th>PREMIUM_CUSTOMER</th>\n",
       "    </tr>\n",
       "  </thead>\n",
       "  <tbody>\n",
       "    <tr>\n",
       "      <th>0</th>\n",
       "      <td>1000</td>\n",
       "      <td>2018-10-17</td>\n",
       "      <td>1</td>\n",
       "      <td>1</td>\n",
       "      <td>5</td>\n",
       "      <td>Natural Chip        Compny SeaSalt175g</td>\n",
       "      <td>2</td>\n",
       "      <td>6.0</td>\n",
       "      <td>175</td>\n",
       "      <td>NATURAL</td>\n",
       "      <td>YOUNG SINGLES/COUPLES</td>\n",
       "      <td>Premium</td>\n",
       "    </tr>\n",
       "    <tr>\n",
       "      <th>1</th>\n",
       "      <td>1002</td>\n",
       "      <td>2018-09-16</td>\n",
       "      <td>1</td>\n",
       "      <td>2</td>\n",
       "      <td>58</td>\n",
       "      <td>Red Rock Deli Chikn&amp;Garlic Aioli 150g</td>\n",
       "      <td>1</td>\n",
       "      <td>2.7</td>\n",
       "      <td>150</td>\n",
       "      <td>RRD</td>\n",
       "      <td>YOUNG SINGLES/COUPLES</td>\n",
       "      <td>Mainstream</td>\n",
       "    </tr>\n",
       "    <tr>\n",
       "      <th>2</th>\n",
       "      <td>1003</td>\n",
       "      <td>2019-03-07</td>\n",
       "      <td>1</td>\n",
       "      <td>3</td>\n",
       "      <td>52</td>\n",
       "      <td>Grain Waves Sour    Cream&amp;Chives 210G</td>\n",
       "      <td>1</td>\n",
       "      <td>3.6</td>\n",
       "      <td>210</td>\n",
       "      <td>GRNWVES</td>\n",
       "      <td>YOUNG FAMILIES</td>\n",
       "      <td>Budget</td>\n",
       "    </tr>\n",
       "    <tr>\n",
       "      <th>3</th>\n",
       "      <td>1003</td>\n",
       "      <td>2019-03-08</td>\n",
       "      <td>1</td>\n",
       "      <td>4</td>\n",
       "      <td>106</td>\n",
       "      <td>Natural ChipCo      Hony Soy Chckn175g</td>\n",
       "      <td>1</td>\n",
       "      <td>3.0</td>\n",
       "      <td>175</td>\n",
       "      <td>NATURAL</td>\n",
       "      <td>YOUNG FAMILIES</td>\n",
       "      <td>Budget</td>\n",
       "    </tr>\n",
       "    <tr>\n",
       "      <th>4</th>\n",
       "      <td>1004</td>\n",
       "      <td>2018-11-02</td>\n",
       "      <td>1</td>\n",
       "      <td>5</td>\n",
       "      <td>96</td>\n",
       "      <td>WW Original Stacked Chips 160g</td>\n",
       "      <td>1</td>\n",
       "      <td>1.9</td>\n",
       "      <td>160</td>\n",
       "      <td>WOOLWORTHS</td>\n",
       "      <td>OLDER SINGLES/COUPLES</td>\n",
       "      <td>Mainstream</td>\n",
       "    </tr>\n",
       "  </tbody>\n",
       "</table>\n",
       "</div>"
      ],
      "text/plain": [
       "   LYLTY_CARD_NBR        DATE  STORE_NBR  TXN_ID  PROD_NBR   \n",
       "0            1000  2018-10-17          1       1         5  \\\n",
       "1            1002  2018-09-16          1       2        58   \n",
       "2            1003  2019-03-07          1       3        52   \n",
       "3            1003  2019-03-08          1       4       106   \n",
       "4            1004  2018-11-02          1       5        96   \n",
       "\n",
       "                                PROD_NAME  PROD_QTY  TOT_SALES  PACK_SIZE   \n",
       "0  Natural Chip        Compny SeaSalt175g         2        6.0        175  \\\n",
       "1   Red Rock Deli Chikn&Garlic Aioli 150g         1        2.7        150   \n",
       "2   Grain Waves Sour    Cream&Chives 210G         1        3.6        210   \n",
       "3  Natural ChipCo      Hony Soy Chckn175g         1        3.0        175   \n",
       "4          WW Original Stacked Chips 160g         1        1.9        160   \n",
       "\n",
       "        BRAND              LIFESTAGE PREMIUM_CUSTOMER  \n",
       "0     NATURAL  YOUNG SINGLES/COUPLES          Premium  \n",
       "1         RRD  YOUNG SINGLES/COUPLES       Mainstream  \n",
       "2     GRNWVES         YOUNG FAMILIES           Budget  \n",
       "3     NATURAL         YOUNG FAMILIES           Budget  \n",
       "4  WOOLWORTHS  OLDER SINGLES/COUPLES       Mainstream  "
      ]
     },
     "execution_count": 12,
     "metadata": {},
     "output_type": "execute_result"
    }
   ],
   "source": [
    "cust_transact_data = pd.read_csv(\"./data/QVI_data.csv\")\n",
    "cust_transact_data.head()"
   ]
  },
  {
   "cell_type": "code",
   "execution_count": 13,
   "id": "42732152-81e4-493a-acd7-248f79933054",
   "metadata": {},
   "outputs": [
    {
     "name": "stdout",
     "output_type": "stream",
     "text": [
      "<class 'pandas.core.frame.DataFrame'>\n",
      "RangeIndex: 264834 entries, 0 to 264833\n",
      "Data columns (total 12 columns):\n",
      " #   Column            Non-Null Count   Dtype  \n",
      "---  ------            --------------   -----  \n",
      " 0   LYLTY_CARD_NBR    264834 non-null  int64  \n",
      " 1   DATE              264834 non-null  object \n",
      " 2   STORE_NBR         264834 non-null  int64  \n",
      " 3   TXN_ID            264834 non-null  int64  \n",
      " 4   PROD_NBR          264834 non-null  int64  \n",
      " 5   PROD_NAME         264834 non-null  object \n",
      " 6   PROD_QTY          264834 non-null  int64  \n",
      " 7   TOT_SALES         264834 non-null  float64\n",
      " 8   PACK_SIZE         264834 non-null  int64  \n",
      " 9   BRAND             264834 non-null  object \n",
      " 10  LIFESTAGE         264834 non-null  object \n",
      " 11  PREMIUM_CUSTOMER  264834 non-null  object \n",
      "dtypes: float64(1), int64(6), object(5)\n",
      "memory usage: 24.2+ MB\n"
     ]
    }
   ],
   "source": [
    "cust_transact_data.info()"
   ]
  },
  {
   "cell_type": "markdown",
   "id": "a30a1607-9f59-4a1c-b00d-39fa24e251c4",
   "metadata": {},
   "source": [
    "## Changing to correct types"
   ]
  },
  {
   "cell_type": "markdown",
   "id": "561761e4-49c7-4bf2-8c25-e29b4221a03f",
   "metadata": {},
   "source": [
    "Converting `DATE` column to date type."
   ]
  },
  {
   "cell_type": "code",
   "execution_count": 14,
   "id": "ef2751ad-8fb0-49dd-8c6f-5282745af8a6",
   "metadata": {},
   "outputs": [],
   "source": [
    "cust_transact_data[\"DATE\"] = pd.to_datetime(cust_transact_data[\"DATE\"])"
   ]
  },
  {
   "cell_type": "markdown",
   "id": "dbebbcb6-1c7e-40e4-a505-ffc553ca7533",
   "metadata": {},
   "source": [
    "Converting `PROD_NAME`, `BRAND`, `LIFESTAGE`, and `PREMIUM_CUSTOMER` to category type."
   ]
  },
  {
   "cell_type": "code",
   "execution_count": 15,
   "id": "002dc742-9e55-4b01-b238-29e928ee62f2",
   "metadata": {},
   "outputs": [],
   "source": [
    "cust_transact_data[\"PROD_NAME\"] = cust_transact_data[\"PROD_NAME\"].astype(\"category\")\n",
    "cust_transact_data[\"BRAND\"] = cust_transact_data[\"BRAND\"].astype(\"category\")\n",
    "cust_transact_data[\"LIFESTAGE\"] = cust_transact_data[\"LIFESTAGE\"].astype(\"category\")\n",
    "cust_transact_data[\"PREMIUM_CUSTOMER\"] = cust_transact_data[\"PREMIUM_CUSTOMER\"].astype(\"category\")"
   ]
  },
  {
   "cell_type": "code",
   "execution_count": 16,
   "id": "37580a8a-3b05-44de-9467-4d7797956b60",
   "metadata": {},
   "outputs": [
    {
     "name": "stdout",
     "output_type": "stream",
     "text": [
      "<class 'pandas.core.frame.DataFrame'>\n",
      "RangeIndex: 264834 entries, 0 to 264833\n",
      "Data columns (total 12 columns):\n",
      " #   Column            Non-Null Count   Dtype         \n",
      "---  ------            --------------   -----         \n",
      " 0   LYLTY_CARD_NBR    264834 non-null  int64         \n",
      " 1   DATE              264834 non-null  datetime64[ns]\n",
      " 2   STORE_NBR         264834 non-null  int64         \n",
      " 3   TXN_ID            264834 non-null  int64         \n",
      " 4   PROD_NBR          264834 non-null  int64         \n",
      " 5   PROD_NAME         264834 non-null  category      \n",
      " 6   PROD_QTY          264834 non-null  int64         \n",
      " 7   TOT_SALES         264834 non-null  float64       \n",
      " 8   PACK_SIZE         264834 non-null  int64         \n",
      " 9   BRAND             264834 non-null  category      \n",
      " 10  LIFESTAGE         264834 non-null  category      \n",
      " 11  PREMIUM_CUSTOMER  264834 non-null  category      \n",
      "dtypes: category(4), datetime64[ns](1), float64(1), int64(6)\n",
      "memory usage: 17.2 MB\n"
     ]
    }
   ],
   "source": [
    "cust_transact_data.info()"
   ]
  },
  {
   "cell_type": "markdown",
   "id": "9db04ad6-2838-4d95-ac5e-60586d6a1974",
   "metadata": {},
   "source": [
    "## Removing stores which don't have 12 months data"
   ]
  },
  {
   "cell_type": "code",
   "execution_count": 17,
   "id": "8759b65b-709c-46e4-bb8a-e6f80433df72",
   "metadata": {},
   "outputs": [
    {
     "data": {
      "text/plain": [
       "0         10\n",
       "1          9\n",
       "2          3\n",
       "3          3\n",
       "4         11\n",
       "          ..\n",
       "264829    12\n",
       "264830    10\n",
       "264831    10\n",
       "264832    10\n",
       "264833    12\n",
       "Name: MONTH, Length: 264834, dtype: int32"
      ]
     },
     "execution_count": 17,
     "metadata": {},
     "output_type": "execute_result"
    }
   ],
   "source": [
    "cust_transact_data[\"MONTH\"] = cust_transact_data[\"DATE\"].dt.month\n",
    "cust_transact_data[\"MONTH\"]"
   ]
  },
  {
   "cell_type": "code",
   "execution_count": 18,
   "id": "0b73d849-131c-449d-af5d-574a61a00688",
   "metadata": {},
   "outputs": [],
   "source": [
    "data_by_date = cust_transact_data.groupby(\"STORE_NBR\")[\"MONTH\"].nunique()"
   ]
  },
  {
   "cell_type": "code",
   "execution_count": 19,
   "id": "fc7a7edf-398e-4b34-bf31-9c9b35a6f85d",
   "metadata": {},
   "outputs": [
    {
     "data": {
      "text/plain": [
       "STORE_NBR\n",
       "1      12\n",
       "2      12\n",
       "3      12\n",
       "4      12\n",
       "5      12\n",
       "       ..\n",
       "268    12\n",
       "269    12\n",
       "270    12\n",
       "271    12\n",
       "272    12\n",
       "Name: MONTH, Length: 272, dtype: int64"
      ]
     },
     "execution_count": 19,
     "metadata": {},
     "output_type": "execute_result"
    }
   ],
   "source": [
    "data_by_date"
   ]
  },
  {
   "cell_type": "code",
   "execution_count": 20,
   "id": "9cdfbf67-47a3-47c6-9f55-7fdb720026e5",
   "metadata": {},
   "outputs": [],
   "source": [
    "stores_to_remove = data_by_date[data_by_date != 12].index"
   ]
  },
  {
   "cell_type": "code",
   "execution_count": 21,
   "id": "7c2f15cb-10c2-4c4a-8330-fc38075275f8",
   "metadata": {},
   "outputs": [],
   "source": [
    "cust_transact_data = cust_transact_data[~cust_transact_data[\"STORE_NBR\"].isin(stores_to_remove)]"
   ]
  },
  {
   "cell_type": "markdown",
   "id": "c0086e00-fb95-44a4-bf05-98660f17bba9",
   "metadata": {},
   "source": [
    "## Splitting the data based on pre trial and trial period"
   ]
  },
  {
   "cell_type": "markdown",
   "id": "5773ad4f-ee4c-49d5-af24-f8344ec7f26b",
   "metadata": {},
   "source": [
    "### Pretrial data"
   ]
  },
  {
   "cell_type": "code",
   "execution_count": 22,
   "id": "3a48c3e0-8119-4d3d-852b-b8eb127e7fea",
   "metadata": {},
   "outputs": [],
   "source": [
    "cust_transact_data_pretrial = cust_transact_data[cust_transact_data[\"DATE\"] < \"2019-02-01\"]"
   ]
  },
  {
   "cell_type": "code",
   "execution_count": 23,
   "id": "b275688f-0880-4fe6-8f3f-8eab6a9401f3",
   "metadata": {},
   "outputs": [
    {
     "data": {
      "text/html": [
       "<div>\n",
       "<style scoped>\n",
       "    .dataframe tbody tr th:only-of-type {\n",
       "        vertical-align: middle;\n",
       "    }\n",
       "\n",
       "    .dataframe tbody tr th {\n",
       "        vertical-align: top;\n",
       "    }\n",
       "\n",
       "    .dataframe thead th {\n",
       "        text-align: right;\n",
       "    }\n",
       "</style>\n",
       "<table border=\"1\" class=\"dataframe\">\n",
       "  <thead>\n",
       "    <tr style=\"text-align: right;\">\n",
       "      <th></th>\n",
       "      <th>LYLTY_CARD_NBR</th>\n",
       "      <th>DATE</th>\n",
       "      <th>STORE_NBR</th>\n",
       "      <th>TXN_ID</th>\n",
       "      <th>PROD_NBR</th>\n",
       "      <th>PROD_NAME</th>\n",
       "      <th>PROD_QTY</th>\n",
       "      <th>TOT_SALES</th>\n",
       "      <th>PACK_SIZE</th>\n",
       "      <th>BRAND</th>\n",
       "      <th>LIFESTAGE</th>\n",
       "      <th>PREMIUM_CUSTOMER</th>\n",
       "      <th>MONTH</th>\n",
       "    </tr>\n",
       "  </thead>\n",
       "  <tbody>\n",
       "    <tr>\n",
       "      <th>0</th>\n",
       "      <td>1000</td>\n",
       "      <td>2018-10-17</td>\n",
       "      <td>1</td>\n",
       "      <td>1</td>\n",
       "      <td>5</td>\n",
       "      <td>Natural Chip        Compny SeaSalt175g</td>\n",
       "      <td>2</td>\n",
       "      <td>6.0</td>\n",
       "      <td>175</td>\n",
       "      <td>NATURAL</td>\n",
       "      <td>YOUNG SINGLES/COUPLES</td>\n",
       "      <td>Premium</td>\n",
       "      <td>10</td>\n",
       "    </tr>\n",
       "    <tr>\n",
       "      <th>1</th>\n",
       "      <td>1002</td>\n",
       "      <td>2018-09-16</td>\n",
       "      <td>1</td>\n",
       "      <td>2</td>\n",
       "      <td>58</td>\n",
       "      <td>Red Rock Deli Chikn&amp;Garlic Aioli 150g</td>\n",
       "      <td>1</td>\n",
       "      <td>2.7</td>\n",
       "      <td>150</td>\n",
       "      <td>RRD</td>\n",
       "      <td>YOUNG SINGLES/COUPLES</td>\n",
       "      <td>Mainstream</td>\n",
       "      <td>9</td>\n",
       "    </tr>\n",
       "    <tr>\n",
       "      <th>4</th>\n",
       "      <td>1004</td>\n",
       "      <td>2018-11-02</td>\n",
       "      <td>1</td>\n",
       "      <td>5</td>\n",
       "      <td>96</td>\n",
       "      <td>WW Original Stacked Chips 160g</td>\n",
       "      <td>1</td>\n",
       "      <td>1.9</td>\n",
       "      <td>160</td>\n",
       "      <td>WOOLWORTHS</td>\n",
       "      <td>OLDER SINGLES/COUPLES</td>\n",
       "      <td>Mainstream</td>\n",
       "      <td>11</td>\n",
       "    </tr>\n",
       "    <tr>\n",
       "      <th>5</th>\n",
       "      <td>1005</td>\n",
       "      <td>2018-12-28</td>\n",
       "      <td>1</td>\n",
       "      <td>6</td>\n",
       "      <td>86</td>\n",
       "      <td>Cheetos Puffs 165g</td>\n",
       "      <td>1</td>\n",
       "      <td>2.8</td>\n",
       "      <td>165</td>\n",
       "      <td>CHEETOS</td>\n",
       "      <td>MIDAGE SINGLES/COUPLES</td>\n",
       "      <td>Mainstream</td>\n",
       "      <td>12</td>\n",
       "    </tr>\n",
       "    <tr>\n",
       "      <th>6</th>\n",
       "      <td>1007</td>\n",
       "      <td>2018-12-04</td>\n",
       "      <td>1</td>\n",
       "      <td>7</td>\n",
       "      <td>49</td>\n",
       "      <td>Infuzions SourCream&amp;Herbs Veg Strws 110g</td>\n",
       "      <td>1</td>\n",
       "      <td>3.8</td>\n",
       "      <td>110</td>\n",
       "      <td>INFUZIONS</td>\n",
       "      <td>YOUNG SINGLES/COUPLES</td>\n",
       "      <td>Budget</td>\n",
       "      <td>12</td>\n",
       "    </tr>\n",
       "  </tbody>\n",
       "</table>\n",
       "</div>"
      ],
      "text/plain": [
       "   LYLTY_CARD_NBR       DATE  STORE_NBR  TXN_ID  PROD_NBR   \n",
       "0            1000 2018-10-17          1       1         5  \\\n",
       "1            1002 2018-09-16          1       2        58   \n",
       "4            1004 2018-11-02          1       5        96   \n",
       "5            1005 2018-12-28          1       6        86   \n",
       "6            1007 2018-12-04          1       7        49   \n",
       "\n",
       "                                  PROD_NAME  PROD_QTY  TOT_SALES  PACK_SIZE   \n",
       "0    Natural Chip        Compny SeaSalt175g         2        6.0        175  \\\n",
       "1     Red Rock Deli Chikn&Garlic Aioli 150g         1        2.7        150   \n",
       "4            WW Original Stacked Chips 160g         1        1.9        160   \n",
       "5                        Cheetos Puffs 165g         1        2.8        165   \n",
       "6  Infuzions SourCream&Herbs Veg Strws 110g         1        3.8        110   \n",
       "\n",
       "        BRAND               LIFESTAGE PREMIUM_CUSTOMER  MONTH  \n",
       "0     NATURAL   YOUNG SINGLES/COUPLES          Premium     10  \n",
       "1         RRD   YOUNG SINGLES/COUPLES       Mainstream      9  \n",
       "4  WOOLWORTHS   OLDER SINGLES/COUPLES       Mainstream     11  \n",
       "5     CHEETOS  MIDAGE SINGLES/COUPLES       Mainstream     12  \n",
       "6   INFUZIONS   YOUNG SINGLES/COUPLES           Budget     12  "
      ]
     },
     "execution_count": 23,
     "metadata": {},
     "output_type": "execute_result"
    }
   ],
   "source": [
    "cust_transact_data_pretrial.head()"
   ]
  },
  {
   "cell_type": "code",
   "execution_count": 24,
   "id": "7e83cad8-32f5-4309-b16b-118027bdc431",
   "metadata": {},
   "outputs": [
    {
     "name": "stdout",
     "output_type": "stream",
     "text": [
      "Min date:  2018-07-01 00:00:00\n",
      "Max date:  2019-01-31 00:00:00\n"
     ]
    }
   ],
   "source": [
    "print(\"Min date: \", cust_transact_data_pretrial[\"DATE\"].min())\n",
    "print(\"Max date: \", cust_transact_data_pretrial[\"DATE\"].max())"
   ]
  },
  {
   "cell_type": "markdown",
   "id": "a49b8b1e-de94-41cf-bcba-4a87288e41cd",
   "metadata": {},
   "source": [
    "### Trial data"
   ]
  },
  {
   "cell_type": "markdown",
   "id": "6c64daf1-e38d-49f3-b286-b5e77ac4af88",
   "metadata": {},
   "source": [
    "The trial date is between start of february to end of april."
   ]
  },
  {
   "cell_type": "code",
   "execution_count": 25,
   "id": "54194793-a973-4245-8afd-39f148e9664e",
   "metadata": {},
   "outputs": [],
   "source": [
    "cust_transact_data_trial = cust_transact_data[\n",
    "    (cust_transact_data[\"DATE\"] > \"2019-02-01\") &\n",
    "    (cust_transact_data[\"DATE\"] < \"2019-05-01\")\n",
    "]"
   ]
  },
  {
   "cell_type": "code",
   "execution_count": 26,
   "id": "b1cb59e6-592b-414c-b8f8-bfb53847e65d",
   "metadata": {},
   "outputs": [
    {
     "name": "stdout",
     "output_type": "stream",
     "text": [
      "Min date:  2019-02-02 00:00:00\n",
      "Max date:  2019-04-30 00:00:00\n"
     ]
    }
   ],
   "source": [
    "print(\"Min date: \", cust_transact_data_trial[\"DATE\"].min())\n",
    "print(\"Max date: \", cust_transact_data_trial[\"DATE\"].max())"
   ]
  },
  {
   "cell_type": "markdown",
   "id": "db0adcab-4327-4c4d-ba82-efad413dbc59",
   "metadata": {},
   "source": [
    "## Metrics for comparison"
   ]
  },
  {
   "cell_type": "markdown",
   "id": "28a5cb07-7cf5-4350-92ee-e779b1403725",
   "metadata": {},
   "source": [
    "The following metrics will be used to select control stores similar to trial stores\n",
    "* monthly total sales revenue\n",
    "* monthly total number of customers\n",
    "* monthly average number of transactions per customer"
   ]
  },
  {
   "cell_type": "code",
   "execution_count": 30,
   "id": "87154a9c-21f6-4a50-98ae-4a925cf270ea",
   "metadata": {},
   "outputs": [
    {
     "data": {
      "text/html": [
       "<div>\n",
       "<style scoped>\n",
       "    .dataframe tbody tr th:only-of-type {\n",
       "        vertical-align: middle;\n",
       "    }\n",
       "\n",
       "    .dataframe tbody tr th {\n",
       "        vertical-align: top;\n",
       "    }\n",
       "\n",
       "    .dataframe thead th {\n",
       "        text-align: right;\n",
       "    }\n",
       "</style>\n",
       "<table border=\"1\" class=\"dataframe\">\n",
       "  <thead>\n",
       "    <tr style=\"text-align: right;\">\n",
       "      <th></th>\n",
       "      <th></th>\n",
       "      <th>TOT_SALES</th>\n",
       "      <th>NUM_OF_CUST</th>\n",
       "      <th>AVG_TRANSACT</th>\n",
       "    </tr>\n",
       "    <tr>\n",
       "      <th>STORE_NBR</th>\n",
       "      <th>MONTH</th>\n",
       "      <th></th>\n",
       "      <th></th>\n",
       "      <th></th>\n",
       "    </tr>\n",
       "  </thead>\n",
       "  <tbody>\n",
       "    <tr>\n",
       "      <th rowspan=\"5\" valign=\"top\">1</th>\n",
       "      <th>1</th>\n",
       "      <td>154.80</td>\n",
       "      <td>35</td>\n",
       "      <td>4.300000</td>\n",
       "    </tr>\n",
       "    <tr>\n",
       "      <th>7</th>\n",
       "      <td>206.90</td>\n",
       "      <td>49</td>\n",
       "      <td>3.978846</td>\n",
       "    </tr>\n",
       "    <tr>\n",
       "      <th>8</th>\n",
       "      <td>176.10</td>\n",
       "      <td>42</td>\n",
       "      <td>4.095349</td>\n",
       "    </tr>\n",
       "    <tr>\n",
       "      <th>9</th>\n",
       "      <td>278.80</td>\n",
       "      <td>59</td>\n",
       "      <td>4.496774</td>\n",
       "    </tr>\n",
       "    <tr>\n",
       "      <th>10</th>\n",
       "      <td>188.10</td>\n",
       "      <td>44</td>\n",
       "      <td>4.180000</td>\n",
       "    </tr>\n",
       "    <tr>\n",
       "      <th>...</th>\n",
       "      <th>...</th>\n",
       "      <td>...</td>\n",
       "      <td>...</td>\n",
       "      <td>...</td>\n",
       "    </tr>\n",
       "    <tr>\n",
       "      <th rowspan=\"5\" valign=\"top\">272</th>\n",
       "      <th>8</th>\n",
       "      <td>372.85</td>\n",
       "      <td>44</td>\n",
       "      <td>7.767708</td>\n",
       "    </tr>\n",
       "    <tr>\n",
       "      <th>9</th>\n",
       "      <td>304.70</td>\n",
       "      <td>32</td>\n",
       "      <td>8.463889</td>\n",
       "    </tr>\n",
       "    <tr>\n",
       "      <th>10</th>\n",
       "      <td>430.60</td>\n",
       "      <td>44</td>\n",
       "      <td>8.443137</td>\n",
       "    </tr>\n",
       "    <tr>\n",
       "      <th>11</th>\n",
       "      <td>376.20</td>\n",
       "      <td>41</td>\n",
       "      <td>8.360000</td>\n",
       "    </tr>\n",
       "    <tr>\n",
       "      <th>12</th>\n",
       "      <td>403.90</td>\n",
       "      <td>47</td>\n",
       "      <td>8.593617</td>\n",
       "    </tr>\n",
       "  </tbody>\n",
       "</table>\n",
       "<p>1820 rows × 3 columns</p>\n",
       "</div>"
      ],
      "text/plain": [
       "                 TOT_SALES  NUM_OF_CUST  AVG_TRANSACT\n",
       "STORE_NBR MONTH                                      \n",
       "1         1         154.80           35      4.300000\n",
       "          7         206.90           49      3.978846\n",
       "          8         176.10           42      4.095349\n",
       "          9         278.80           59      4.496774\n",
       "          10        188.10           44      4.180000\n",
       "...                    ...          ...           ...\n",
       "272       8         372.85           44      7.767708\n",
       "          9         304.70           32      8.463889\n",
       "          10        430.60           44      8.443137\n",
       "          11        376.20           41      8.360000\n",
       "          12        403.90           47      8.593617\n",
       "\n",
       "[1820 rows x 3 columns]"
      ]
     },
     "execution_count": 30,
     "metadata": {},
     "output_type": "execute_result"
    }
   ],
   "source": [
    "tot_sales = cust_transact_data_pretrial.groupby([\"STORE_NBR\",\"MONTH\"])[\"TOT_SALES\"].sum()\n",
    "\n",
    "total_num_cust = (cust_transact_data_pretrial\n",
    "                 .groupby([\"STORE_NBR\",\"MONTH\"])[\"LYLTY_CARD_NBR\"].nunique()\n",
    "                 .rename(\"NUM_OF_CUST\"))\n",
    "\n",
    "avg_cust_transact = (cust_transact_data_pretrial\n",
    "               .groupby([\"STORE_NBR\",\"MONTH\"])[\"TOT_SALES\"].mean()\n",
    "               .rename(\"AVG_TRANSACT\"))\n",
    "\n",
    "\n",
    "cust_transact_summary = (pd.concat([tot_sales, total_num_cust, avg_cust_transact], axis=1))\n",
    "                         \n",
    "\n",
    "cust_transact_summary"
   ]
  },
  {
   "cell_type": "code",
   "execution_count": 34,
   "id": "4452ab6d-1b94-422a-8186-3b7cdf010cad",
   "metadata": {},
   "outputs": [
    {
     "data": {
      "text/html": [
       "<div>\n",
       "<style scoped>\n",
       "    .dataframe tbody tr th:only-of-type {\n",
       "        vertical-align: middle;\n",
       "    }\n",
       "\n",
       "    .dataframe tbody tr th {\n",
       "        vertical-align: top;\n",
       "    }\n",
       "\n",
       "    .dataframe thead th {\n",
       "        text-align: right;\n",
       "    }\n",
       "</style>\n",
       "<table border=\"1\" class=\"dataframe\">\n",
       "  <thead>\n",
       "    <tr style=\"text-align: right;\">\n",
       "      <th></th>\n",
       "      <th>TOT_SALES</th>\n",
       "      <th>NUM_OF_CUST</th>\n",
       "      <th>AVG_TRANSACT</th>\n",
       "    </tr>\n",
       "    <tr>\n",
       "      <th>MONTH</th>\n",
       "      <th></th>\n",
       "      <th></th>\n",
       "      <th></th>\n",
       "    </tr>\n",
       "  </thead>\n",
       "  <tbody>\n",
       "    <tr>\n",
       "      <th>1</th>\n",
       "      <td>154.8</td>\n",
       "      <td>35</td>\n",
       "      <td>4.300000</td>\n",
       "    </tr>\n",
       "    <tr>\n",
       "      <th>7</th>\n",
       "      <td>206.9</td>\n",
       "      <td>49</td>\n",
       "      <td>3.978846</td>\n",
       "    </tr>\n",
       "    <tr>\n",
       "      <th>8</th>\n",
       "      <td>176.1</td>\n",
       "      <td>42</td>\n",
       "      <td>4.095349</td>\n",
       "    </tr>\n",
       "    <tr>\n",
       "      <th>9</th>\n",
       "      <td>278.8</td>\n",
       "      <td>59</td>\n",
       "      <td>4.496774</td>\n",
       "    </tr>\n",
       "    <tr>\n",
       "      <th>10</th>\n",
       "      <td>188.1</td>\n",
       "      <td>44</td>\n",
       "      <td>4.180000</td>\n",
       "    </tr>\n",
       "    <tr>\n",
       "      <th>11</th>\n",
       "      <td>192.6</td>\n",
       "      <td>46</td>\n",
       "      <td>4.097872</td>\n",
       "    </tr>\n",
       "    <tr>\n",
       "      <th>12</th>\n",
       "      <td>189.6</td>\n",
       "      <td>42</td>\n",
       "      <td>4.034043</td>\n",
       "    </tr>\n",
       "  </tbody>\n",
       "</table>\n",
       "</div>"
      ],
      "text/plain": [
       "       TOT_SALES  NUM_OF_CUST  AVG_TRANSACT\n",
       "MONTH                                      \n",
       "1          154.8           35      4.300000\n",
       "7          206.9           49      3.978846\n",
       "8          176.1           42      4.095349\n",
       "9          278.8           59      4.496774\n",
       "10         188.1           44      4.180000\n",
       "11         192.6           46      4.097872\n",
       "12         189.6           42      4.034043"
      ]
     },
     "execution_count": 34,
     "metadata": {},
     "output_type": "execute_result"
    }
   ],
   "source": [
    "cust_transact_summary.loc[1]"
   ]
  },
  {
   "cell_type": "markdown",
   "id": "fb98de9b-70f0-4663-9469-43810e227470",
   "metadata": {},
   "source": [
    "## Function to get control store"
   ]
  },
  {
   "cell_type": "code",
   "execution_count": 63,
   "id": "60186cb7-067c-4f1e-b818-a64fb4a1f376",
   "metadata": {},
   "outputs": [],
   "source": [
    "def get_control_store(data, trial_store):\n",
    "    data = data.copy()\n",
    "    data = data.sort_values([\"STORE_NBR\", \"MONTH\"], ascending=False)\n",
    "    \n",
    "    corr_scores = pd.DataFrame(columns=[\"STORE_NBR\", \"TOT_SALES\", \"NUM_OF_CUST\", \"AVG_TRANSACT\"])\n",
    "    \n",
    "    stores = cust_transact_summary.index.get_level_values(0).unique().to_list()\n",
    "    \n",
    "    for i in stores:\n",
    "        store = pd.Series([i])\n",
    "        store.index = [\"STORE_NBR\"]\n",
    "        corr_score_i = pd.concat(\n",
    "            [store,\n",
    "            cust_transact_summary.loc[1].corrwith(cust_transact_summary.loc[2])]\n",
    "        )\n",
    "        corr_scores = pd.concat(\n",
    "            [corr_scores,\n",
    "             pd.DataFrame([corr_score_i.to_list()], columns=corr_score_i.index)],\n",
    "            ignore_index=True\n",
    "        )\n",
    "        \n",
    "        \n",
    "    return corr_scores\n",
    "    "
   ]
  },
  {
   "cell_type": "code",
   "execution_count": 35,
   "id": "f2f53f79-4e59-4ce5-9c07-9d2a3f1b261c",
   "metadata": {},
   "outputs": [
    {
     "data": {
      "text/plain": [
       "TOT_SALES      -0.308766\n",
       "NUM_OF_CUST    -0.588159\n",
       "AVG_TRANSACT    0.223059\n",
       "dtype: float64"
      ]
     },
     "execution_count": 35,
     "metadata": {},
     "output_type": "execute_result"
    }
   ],
   "source": [
    "cust_transact_summary.loc[1].corrwith(cust_transact_summary.loc[2])"
   ]
  },
  {
   "cell_type": "code",
   "execution_count": null,
   "id": "493aef7a-dc7c-4256-acb4-8481d94e4959",
   "metadata": {},
   "outputs": [],
   "source": [
    "cust_transact_summary.index.get_level_values(0).unique().to_list()"
   ]
  },
  {
   "cell_type": "code",
   "execution_count": 64,
   "id": "f136c782-3b10-4d1c-b802-f8514100d8da",
   "metadata": {},
   "outputs": [],
   "source": [
    "corr = get_control_store(cust_transact_summary, 77)"
   ]
  },
  {
   "cell_type": "code",
   "execution_count": 65,
   "id": "656f367e-95e5-47d1-aec8-a29e635fb359",
   "metadata": {},
   "outputs": [
    {
     "data": {
      "text/html": [
       "<div>\n",
       "<style scoped>\n",
       "    .dataframe tbody tr th:only-of-type {\n",
       "        vertical-align: middle;\n",
       "    }\n",
       "\n",
       "    .dataframe tbody tr th {\n",
       "        vertical-align: top;\n",
       "    }\n",
       "\n",
       "    .dataframe thead th {\n",
       "        text-align: right;\n",
       "    }\n",
       "</style>\n",
       "<table border=\"1\" class=\"dataframe\">\n",
       "  <thead>\n",
       "    <tr style=\"text-align: right;\">\n",
       "      <th></th>\n",
       "      <th>STORE_NBR</th>\n",
       "      <th>TOT_SALES</th>\n",
       "      <th>NUM_OF_CUST</th>\n",
       "      <th>AVG_TRANSACT</th>\n",
       "    </tr>\n",
       "  </thead>\n",
       "  <tbody>\n",
       "    <tr>\n",
       "      <th>0</th>\n",
       "      <td>1.0</td>\n",
       "      <td>-0.308766</td>\n",
       "      <td>-0.588159</td>\n",
       "      <td>0.223059</td>\n",
       "    </tr>\n",
       "    <tr>\n",
       "      <th>1</th>\n",
       "      <td>2.0</td>\n",
       "      <td>-0.308766</td>\n",
       "      <td>-0.588159</td>\n",
       "      <td>0.223059</td>\n",
       "    </tr>\n",
       "    <tr>\n",
       "      <th>2</th>\n",
       "      <td>3.0</td>\n",
       "      <td>-0.308766</td>\n",
       "      <td>-0.588159</td>\n",
       "      <td>0.223059</td>\n",
       "    </tr>\n",
       "    <tr>\n",
       "      <th>3</th>\n",
       "      <td>4.0</td>\n",
       "      <td>-0.308766</td>\n",
       "      <td>-0.588159</td>\n",
       "      <td>0.223059</td>\n",
       "    </tr>\n",
       "    <tr>\n",
       "      <th>4</th>\n",
       "      <td>5.0</td>\n",
       "      <td>-0.308766</td>\n",
       "      <td>-0.588159</td>\n",
       "      <td>0.223059</td>\n",
       "    </tr>\n",
       "    <tr>\n",
       "      <th>...</th>\n",
       "      <td>...</td>\n",
       "      <td>...</td>\n",
       "      <td>...</td>\n",
       "      <td>...</td>\n",
       "    </tr>\n",
       "    <tr>\n",
       "      <th>255</th>\n",
       "      <td>268.0</td>\n",
       "      <td>-0.308766</td>\n",
       "      <td>-0.588159</td>\n",
       "      <td>0.223059</td>\n",
       "    </tr>\n",
       "    <tr>\n",
       "      <th>256</th>\n",
       "      <td>269.0</td>\n",
       "      <td>-0.308766</td>\n",
       "      <td>-0.588159</td>\n",
       "      <td>0.223059</td>\n",
       "    </tr>\n",
       "    <tr>\n",
       "      <th>257</th>\n",
       "      <td>270.0</td>\n",
       "      <td>-0.308766</td>\n",
       "      <td>-0.588159</td>\n",
       "      <td>0.223059</td>\n",
       "    </tr>\n",
       "    <tr>\n",
       "      <th>258</th>\n",
       "      <td>271.0</td>\n",
       "      <td>-0.308766</td>\n",
       "      <td>-0.588159</td>\n",
       "      <td>0.223059</td>\n",
       "    </tr>\n",
       "    <tr>\n",
       "      <th>259</th>\n",
       "      <td>272.0</td>\n",
       "      <td>-0.308766</td>\n",
       "      <td>-0.588159</td>\n",
       "      <td>0.223059</td>\n",
       "    </tr>\n",
       "  </tbody>\n",
       "</table>\n",
       "<p>260 rows × 4 columns</p>\n",
       "</div>"
      ],
      "text/plain": [
       "     STORE_NBR  TOT_SALES  NUM_OF_CUST  AVG_TRANSACT\n",
       "0          1.0  -0.308766    -0.588159      0.223059\n",
       "1          2.0  -0.308766    -0.588159      0.223059\n",
       "2          3.0  -0.308766    -0.588159      0.223059\n",
       "3          4.0  -0.308766    -0.588159      0.223059\n",
       "4          5.0  -0.308766    -0.588159      0.223059\n",
       "..         ...        ...          ...           ...\n",
       "255      268.0  -0.308766    -0.588159      0.223059\n",
       "256      269.0  -0.308766    -0.588159      0.223059\n",
       "257      270.0  -0.308766    -0.588159      0.223059\n",
       "258      271.0  -0.308766    -0.588159      0.223059\n",
       "259      272.0  -0.308766    -0.588159      0.223059\n",
       "\n",
       "[260 rows x 4 columns]"
      ]
     },
     "execution_count": 65,
     "metadata": {},
     "output_type": "execute_result"
    }
   ],
   "source": [
    "corr"
   ]
  },
  {
   "cell_type": "code",
   "execution_count": null,
   "id": "c9ab8b76-d726-48bc-9e28-feda1efb4002",
   "metadata": {},
   "outputs": [],
   "source": []
  }
 ],
 "metadata": {
  "kernelspec": {
   "display_name": "Python 3 (ipykernel)",
   "language": "python",
   "name": "python3"
  },
  "language_info": {
   "codemirror_mode": {
    "name": "ipython",
    "version": 3
   },
   "file_extension": ".py",
   "mimetype": "text/x-python",
   "name": "python",
   "nbconvert_exporter": "python",
   "pygments_lexer": "ipython3",
   "version": "3.10.4"
  }
 },
 "nbformat": 4,
 "nbformat_minor": 5
}
