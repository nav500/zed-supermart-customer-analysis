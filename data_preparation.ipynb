{
 "cells": [
  {
   "cell_type": "markdown",
   "id": "67a45b31-b4c4-41e2-9745-c67cc8226477",
   "metadata": {},
   "source": [
    "# Data preparation"
   ]
  },
  {
   "cell_type": "markdown",
   "id": "01c3af3d-af4f-49a7-a41c-8422271e1a5a",
   "metadata": {},
   "source": [
    "## Load the data"
   ]
  },
  {
   "cell_type": "code",
   "execution_count": 176,
   "id": "1e839555-81c2-4f3b-9ecc-d72c14cf038b",
   "metadata": {},
   "outputs": [],
   "source": [
    "import pandas as pd"
   ]
  },
  {
   "cell_type": "markdown",
   "id": "7702aa9f-12bf-49d2-bed5-52d6fdbbcfb3",
   "metadata": {},
   "source": [
    "Load transaction data"
   ]
  },
  {
   "cell_type": "code",
   "execution_count": 177,
   "id": "6fac1c6b-2120-4f85-a066-1cbe77b73a51",
   "metadata": {},
   "outputs": [],
   "source": [
    "transact_data = pd.read_csv(\"./data/QVI_transaction_data.csv\")"
   ]
  },
  {
   "cell_type": "markdown",
   "id": "77247994-7dcb-4155-866a-263f8196c44f",
   "metadata": {},
   "source": [
    "Load customer data"
   ]
  },
  {
   "cell_type": "code",
   "execution_count": 178,
   "id": "a269013d-8df3-4605-b7b8-db1d08200b4a",
   "metadata": {},
   "outputs": [],
   "source": [
    "cust_data = pd.read_csv(\"./data/QVI_purchase_behaviour.csv\")"
   ]
  },
  {
   "cell_type": "markdown",
   "id": "75cf98d9-17fd-43f5-9919-d9aa04655071",
   "metadata": {},
   "source": [
    "## Transaction data"
   ]
  },
  {
   "cell_type": "code",
   "execution_count": 179,
   "id": "4ba3f480-68f1-43bd-a0d1-edbf833f3311",
   "metadata": {},
   "outputs": [
    {
     "data": {
      "text/html": [
       "<div>\n",
       "<style scoped>\n",
       "    .dataframe tbody tr th:only-of-type {\n",
       "        vertical-align: middle;\n",
       "    }\n",
       "\n",
       "    .dataframe tbody tr th {\n",
       "        vertical-align: top;\n",
       "    }\n",
       "\n",
       "    .dataframe thead th {\n",
       "        text-align: right;\n",
       "    }\n",
       "</style>\n",
       "<table border=\"1\" class=\"dataframe\">\n",
       "  <thead>\n",
       "    <tr style=\"text-align: right;\">\n",
       "      <th></th>\n",
       "      <th>DATE</th>\n",
       "      <th>STORE_NBR</th>\n",
       "      <th>LYLTY_CARD_NBR</th>\n",
       "      <th>TXN_ID</th>\n",
       "      <th>PROD_NBR</th>\n",
       "      <th>PROD_NAME</th>\n",
       "      <th>PROD_QTY</th>\n",
       "      <th>TOT_SALES</th>\n",
       "    </tr>\n",
       "  </thead>\n",
       "  <tbody>\n",
       "    <tr>\n",
       "      <th>0</th>\n",
       "      <td>43390</td>\n",
       "      <td>1</td>\n",
       "      <td>1000</td>\n",
       "      <td>1</td>\n",
       "      <td>5</td>\n",
       "      <td>Natural Chip        Compny SeaSalt175g</td>\n",
       "      <td>2</td>\n",
       "      <td>6.0</td>\n",
       "    </tr>\n",
       "    <tr>\n",
       "      <th>1</th>\n",
       "      <td>43599</td>\n",
       "      <td>1</td>\n",
       "      <td>1307</td>\n",
       "      <td>348</td>\n",
       "      <td>66</td>\n",
       "      <td>CCs Nacho Cheese    175g</td>\n",
       "      <td>3</td>\n",
       "      <td>6.3</td>\n",
       "    </tr>\n",
       "    <tr>\n",
       "      <th>2</th>\n",
       "      <td>43605</td>\n",
       "      <td>1</td>\n",
       "      <td>1343</td>\n",
       "      <td>383</td>\n",
       "      <td>61</td>\n",
       "      <td>Smiths Crinkle Cut  Chips Chicken 170g</td>\n",
       "      <td>2</td>\n",
       "      <td>2.9</td>\n",
       "    </tr>\n",
       "    <tr>\n",
       "      <th>3</th>\n",
       "      <td>43329</td>\n",
       "      <td>2</td>\n",
       "      <td>2373</td>\n",
       "      <td>974</td>\n",
       "      <td>69</td>\n",
       "      <td>Smiths Chip Thinly  S/Cream&amp;Onion 175g</td>\n",
       "      <td>5</td>\n",
       "      <td>15.0</td>\n",
       "    </tr>\n",
       "    <tr>\n",
       "      <th>4</th>\n",
       "      <td>43330</td>\n",
       "      <td>2</td>\n",
       "      <td>2426</td>\n",
       "      <td>1038</td>\n",
       "      <td>108</td>\n",
       "      <td>Kettle Tortilla ChpsHny&amp;Jlpno Chili 150g</td>\n",
       "      <td>3</td>\n",
       "      <td>13.8</td>\n",
       "    </tr>\n",
       "  </tbody>\n",
       "</table>\n",
       "</div>"
      ],
      "text/plain": [
       "    DATE  STORE_NBR  LYLTY_CARD_NBR  TXN_ID  PROD_NBR   \n",
       "0  43390          1            1000       1         5  \\\n",
       "1  43599          1            1307     348        66   \n",
       "2  43605          1            1343     383        61   \n",
       "3  43329          2            2373     974        69   \n",
       "4  43330          2            2426    1038       108   \n",
       "\n",
       "                                  PROD_NAME  PROD_QTY  TOT_SALES  \n",
       "0    Natural Chip        Compny SeaSalt175g         2        6.0  \n",
       "1                  CCs Nacho Cheese    175g         3        6.3  \n",
       "2    Smiths Crinkle Cut  Chips Chicken 170g         2        2.9  \n",
       "3    Smiths Chip Thinly  S/Cream&Onion 175g         5       15.0  \n",
       "4  Kettle Tortilla ChpsHny&Jlpno Chili 150g         3       13.8  "
      ]
     },
     "execution_count": 179,
     "metadata": {},
     "output_type": "execute_result"
    }
   ],
   "source": [
    "transact_data.head()"
   ]
  },
  {
   "cell_type": "code",
   "execution_count": 180,
   "id": "66f5885b-dda1-4a1f-8214-019ca6a59976",
   "metadata": {},
   "outputs": [
    {
     "name": "stdout",
     "output_type": "stream",
     "text": [
      "<class 'pandas.core.frame.DataFrame'>\n",
      "RangeIndex: 264836 entries, 0 to 264835\n",
      "Data columns (total 8 columns):\n",
      " #   Column          Non-Null Count   Dtype  \n",
      "---  ------          --------------   -----  \n",
      " 0   DATE            264836 non-null  int64  \n",
      " 1   STORE_NBR       264836 non-null  int64  \n",
      " 2   LYLTY_CARD_NBR  264836 non-null  int64  \n",
      " 3   TXN_ID          264836 non-null  int64  \n",
      " 4   PROD_NBR        264836 non-null  int64  \n",
      " 5   PROD_NAME       264836 non-null  object \n",
      " 6   PROD_QTY        264836 non-null  int64  \n",
      " 7   TOT_SALES       264836 non-null  float64\n",
      "dtypes: float64(1), int64(6), object(1)\n",
      "memory usage: 16.2+ MB\n"
     ]
    }
   ],
   "source": [
    "transact_data.info()"
   ]
  },
  {
   "cell_type": "code",
   "execution_count": 181,
   "id": "f52a0243-2fba-4576-89a7-fcd1160b37a3",
   "metadata": {},
   "outputs": [
    {
     "data": {
      "text/plain": [
       "0"
      ]
     },
     "execution_count": 181,
     "metadata": {},
     "output_type": "execute_result"
    }
   ],
   "source": [
    "transact_data.isna().sum().sum()"
   ]
  },
  {
   "cell_type": "markdown",
   "id": "c8231a56-c153-4228-afac-8aec6cb8f61d",
   "metadata": {},
   "source": [
    "So there are zero null values."
   ]
  },
  {
   "cell_type": "markdown",
   "id": "2609f63b-6cf3-4cf3-a14d-b0b083479624",
   "metadata": {},
   "source": [
    "### Chaging the date format"
   ]
  },
  {
   "cell_type": "code",
   "execution_count": 182,
   "id": "369b53b1-61b0-454e-a5d9-3a9e699e9fdf",
   "metadata": {},
   "outputs": [],
   "source": [
    "transact_data[\"DATE\"] = pd.to_datetime(transact_data[\"DATE\"], unit=\"D\", origin='1899-12-30')"
   ]
  },
  {
   "cell_type": "code",
   "execution_count": 183,
   "id": "9c295239-776e-452c-b142-ff360dc0f9ac",
   "metadata": {},
   "outputs": [
    {
     "data": {
      "text/html": [
       "<div>\n",
       "<style scoped>\n",
       "    .dataframe tbody tr th:only-of-type {\n",
       "        vertical-align: middle;\n",
       "    }\n",
       "\n",
       "    .dataframe tbody tr th {\n",
       "        vertical-align: top;\n",
       "    }\n",
       "\n",
       "    .dataframe thead th {\n",
       "        text-align: right;\n",
       "    }\n",
       "</style>\n",
       "<table border=\"1\" class=\"dataframe\">\n",
       "  <thead>\n",
       "    <tr style=\"text-align: right;\">\n",
       "      <th></th>\n",
       "      <th>DATE</th>\n",
       "      <th>STORE_NBR</th>\n",
       "      <th>LYLTY_CARD_NBR</th>\n",
       "      <th>TXN_ID</th>\n",
       "      <th>PROD_NBR</th>\n",
       "      <th>PROD_NAME</th>\n",
       "      <th>PROD_QTY</th>\n",
       "      <th>TOT_SALES</th>\n",
       "    </tr>\n",
       "  </thead>\n",
       "  <tbody>\n",
       "    <tr>\n",
       "      <th>0</th>\n",
       "      <td>2018-10-17</td>\n",
       "      <td>1</td>\n",
       "      <td>1000</td>\n",
       "      <td>1</td>\n",
       "      <td>5</td>\n",
       "      <td>Natural Chip        Compny SeaSalt175g</td>\n",
       "      <td>2</td>\n",
       "      <td>6.0</td>\n",
       "    </tr>\n",
       "    <tr>\n",
       "      <th>1</th>\n",
       "      <td>2019-05-14</td>\n",
       "      <td>1</td>\n",
       "      <td>1307</td>\n",
       "      <td>348</td>\n",
       "      <td>66</td>\n",
       "      <td>CCs Nacho Cheese    175g</td>\n",
       "      <td>3</td>\n",
       "      <td>6.3</td>\n",
       "    </tr>\n",
       "    <tr>\n",
       "      <th>2</th>\n",
       "      <td>2019-05-20</td>\n",
       "      <td>1</td>\n",
       "      <td>1343</td>\n",
       "      <td>383</td>\n",
       "      <td>61</td>\n",
       "      <td>Smiths Crinkle Cut  Chips Chicken 170g</td>\n",
       "      <td>2</td>\n",
       "      <td>2.9</td>\n",
       "    </tr>\n",
       "    <tr>\n",
       "      <th>3</th>\n",
       "      <td>2018-08-17</td>\n",
       "      <td>2</td>\n",
       "      <td>2373</td>\n",
       "      <td>974</td>\n",
       "      <td>69</td>\n",
       "      <td>Smiths Chip Thinly  S/Cream&amp;Onion 175g</td>\n",
       "      <td>5</td>\n",
       "      <td>15.0</td>\n",
       "    </tr>\n",
       "    <tr>\n",
       "      <th>4</th>\n",
       "      <td>2018-08-18</td>\n",
       "      <td>2</td>\n",
       "      <td>2426</td>\n",
       "      <td>1038</td>\n",
       "      <td>108</td>\n",
       "      <td>Kettle Tortilla ChpsHny&amp;Jlpno Chili 150g</td>\n",
       "      <td>3</td>\n",
       "      <td>13.8</td>\n",
       "    </tr>\n",
       "  </tbody>\n",
       "</table>\n",
       "</div>"
      ],
      "text/plain": [
       "        DATE  STORE_NBR  LYLTY_CARD_NBR  TXN_ID  PROD_NBR   \n",
       "0 2018-10-17          1            1000       1         5  \\\n",
       "1 2019-05-14          1            1307     348        66   \n",
       "2 2019-05-20          1            1343     383        61   \n",
       "3 2018-08-17          2            2373     974        69   \n",
       "4 2018-08-18          2            2426    1038       108   \n",
       "\n",
       "                                  PROD_NAME  PROD_QTY  TOT_SALES  \n",
       "0    Natural Chip        Compny SeaSalt175g         2        6.0  \n",
       "1                  CCs Nacho Cheese    175g         3        6.3  \n",
       "2    Smiths Crinkle Cut  Chips Chicken 170g         2        2.9  \n",
       "3    Smiths Chip Thinly  S/Cream&Onion 175g         5       15.0  \n",
       "4  Kettle Tortilla ChpsHny&Jlpno Chili 150g         3       13.8  "
      ]
     },
     "execution_count": 183,
     "metadata": {},
     "output_type": "execute_result"
    }
   ],
   "source": [
    "transact_data.head()"
   ]
  },
  {
   "cell_type": "markdown",
   "id": "aed6c625-02a6-4db6-886b-b0d4a3d427a8",
   "metadata": {},
   "source": [
    "### Categorical values"
   ]
  },
  {
   "cell_type": "markdown",
   "id": "2f2c6347-ed95-456c-be34-f0c601625cb8",
   "metadata": {},
   "source": [
    "`PROD_NAME` (product name) contains categorical values."
   ]
  },
  {
   "cell_type": "code",
   "execution_count": 184,
   "id": "368b54af-9d47-49e3-9d38-bcf562eabe10",
   "metadata": {},
   "outputs": [
    {
     "data": {
      "text/plain": [
       "PROD_NAME\n",
       "Kettle Mozzarella   Basil & Pesto 175g      3304\n",
       "Kettle Tortilla ChpsHny&Jlpno Chili 150g    3296\n",
       "Cobs Popd Swt/Chlli &Sr/Cream Chips 110g    3269\n",
       "Tyrrells Crisps     Ched & Chives 165g      3268\n",
       "Cobs Popd Sea Salt  Chips 110g              3265\n",
       "                                            ... \n",
       "RRD Pc Sea Salt     165g                    1431\n",
       "Woolworths Medium   Salsa 300g              1430\n",
       "NCC Sour Cream &    Garden Chives 175g      1419\n",
       "French Fries Potato Chips 175g              1418\n",
       "WW Crinkle Cut      Original 175g           1410\n",
       "Name: count, Length: 114, dtype: int64"
      ]
     },
     "execution_count": 184,
     "metadata": {},
     "output_type": "execute_result"
    }
   ],
   "source": [
    "transact_data[\"PROD_NAME\"].value_counts()"
   ]
  },
  {
   "cell_type": "markdown",
   "id": "82095238-0607-4c76-b913-6b59df853acb",
   "metadata": {},
   "source": [
    "There are 114 types of chips products."
   ]
  },
  {
   "cell_type": "markdown",
   "id": "1b3e094a-c418-4b2f-84db-ecbcffa728d8",
   "metadata": {},
   "source": [
    "Changing the `PROD_NAME` type to category."
   ]
  },
  {
   "cell_type": "code",
   "execution_count": 185,
   "id": "14b89274-ba63-4839-89fc-24ae3100ff52",
   "metadata": {},
   "outputs": [],
   "source": [
    "transact_data[\"PROD_NAME\"] = transact_data[\"PROD_NAME\"].astype(\"category\")"
   ]
  },
  {
   "cell_type": "markdown",
   "id": "243a6bf3-6f51-4e75-9877-b089b763e83e",
   "metadata": {},
   "source": [
    "`STORE_NBR` (store number) is also a categorical column."
   ]
  },
  {
   "cell_type": "code",
   "execution_count": 186,
   "id": "72c31439-dbec-4617-a49e-9d0ced6957c3",
   "metadata": {},
   "outputs": [
    {
     "data": {
      "text/plain": [
       "STORE_NBR\n",
       "226    2022\n",
       "88     1873\n",
       "93     1832\n",
       "165    1819\n",
       "237    1785\n",
       "       ... \n",
       "11        2\n",
       "252       2\n",
       "206       2\n",
       "92        1\n",
       "76        1\n",
       "Name: count, Length: 272, dtype: int64"
      ]
     },
     "execution_count": 186,
     "metadata": {},
     "output_type": "execute_result"
    }
   ],
   "source": [
    "transact_data[\"STORE_NBR\"].value_counts()"
   ]
  },
  {
   "cell_type": "code",
   "execution_count": 187,
   "id": "b0864eba-8034-42a3-a1cd-7b5821c8064b",
   "metadata": {},
   "outputs": [],
   "source": [
    "transact_data[\"STORE_NBR\"] = transact_data[\"STORE_NBR\"].astype(\"category\")"
   ]
  },
  {
   "cell_type": "code",
   "execution_count": 188,
   "id": "e176e511-ec16-450a-a79c-4077db6d92d5",
   "metadata": {},
   "outputs": [
    {
     "name": "stdout",
     "output_type": "stream",
     "text": [
      "<class 'pandas.core.frame.DataFrame'>\n",
      "RangeIndex: 264836 entries, 0 to 264835\n",
      "Data columns (total 8 columns):\n",
      " #   Column          Non-Null Count   Dtype         \n",
      "---  ------          --------------   -----         \n",
      " 0   DATE            264836 non-null  datetime64[ns]\n",
      " 1   STORE_NBR       264836 non-null  category      \n",
      " 2   LYLTY_CARD_NBR  264836 non-null  int64         \n",
      " 3   TXN_ID          264836 non-null  int64         \n",
      " 4   PROD_NBR        264836 non-null  int64         \n",
      " 5   PROD_NAME       264836 non-null  category      \n",
      " 6   PROD_QTY        264836 non-null  int64         \n",
      " 7   TOT_SALES       264836 non-null  float64       \n",
      "dtypes: category(2), datetime64[ns](1), float64(1), int64(4)\n",
      "memory usage: 12.9 MB\n"
     ]
    }
   ],
   "source": [
    "transact_data.info()"
   ]
  },
  {
   "cell_type": "markdown",
   "id": "c7b38402-a48f-4b54-ae14-7c7329d48401",
   "metadata": {},
   "source": [
    "### Outliers detection"
   ]
  },
  {
   "cell_type": "code",
   "execution_count": 189,
   "id": "604f97c0-66ee-4bac-a694-5a1fbb387f1e",
   "metadata": {},
   "outputs": [],
   "source": [
    "import seaborn as sns"
   ]
  },
  {
   "cell_type": "code",
   "execution_count": 190,
   "id": "32822f8d-47d4-45a1-9909-eb0c9b71ce10",
   "metadata": {},
   "outputs": [
    {
     "data": {
      "text/plain": [
       "<AxesSubplot: xlabel='TOT_SALES'>"
      ]
     },
     "execution_count": 190,
     "metadata": {},
     "output_type": "execute_result"
    },
    {
     "data": {
      "image/png": "[encoded data removed]",
      "text/plain": [
       "<Figure size 640x480 with 1 Axes>"
      ]
     },
     "metadata": {},
     "output_type": "display_data"
    }
   ],
   "source": [
    "sns.boxplot(data=transact_data, x=transact_data[\"TOT_SALES\"])"
   ]
  },
  {
   "cell_type": "markdown",
   "id": "fd13ff28-0910-483d-bc12-70ea3ab985c7",
   "metadata": {},
   "source": [
    "Using the boxplot we can identify that observations with TOT_SALES greater than 600 can be considered outliers"
   ]
  },
  {
   "cell_type": "code",
   "execution_count": 191,
   "id": "1b8e9d12-cab9-44f8-bd60-d8992e0f5bd9",
   "metadata": {},
   "outputs": [
    {
     "data": {
      "text/plain": [
       "2"
      ]
     },
     "execution_count": 191,
     "metadata": {},
     "output_type": "execute_result"
    }
   ],
   "source": [
    "len(transact_data[transact_data[\"TOT_SALES\"] >= 600])"
   ]
  },
  {
   "cell_type": "code",
   "execution_count": 192,
   "id": "52e90aa1-6574-4d2b-8f80-89cca235cd2f",
   "metadata": {},
   "outputs": [
    {
     "data": {
      "text/plain": [
       "<AxesSubplot: xlabel='PROD_QTY'>"
      ]
     },
     "execution_count": 192,
     "metadata": {},
     "output_type": "execute_result"
    },
    {
     "data": {
      "image/png": "[encoded data removed]",
      "text/plain": [
       "<Figure size 640x480 with 1 Axes>"
      ]
     },
     "metadata": {},
     "output_type": "display_data"
    }
   ],
   "source": [
    "sns.boxplot(data=transact_data, x=transact_data[\"PROD_QTY\"])"
   ]
  },
  {
   "cell_type": "markdown",
   "id": "7f57c6fc-2c42-42bf-9b55-853f28fc2427",
   "metadata": {},
   "source": [
    "Observations with `PROD_QTY` greater than 200 can be considered outliers"
   ]
  },
  {
   "cell_type": "code",
   "execution_count": 193,
   "id": "09efb082-9b34-49f5-bde8-6727e38c03b7",
   "metadata": {},
   "outputs": [
    {
     "data": {
      "text/plain": [
       "2"
      ]
     },
     "execution_count": 193,
     "metadata": {},
     "output_type": "execute_result"
    }
   ],
   "source": [
    "len(transact_data[transact_data[\"PROD_QTY\"] >= 200])"
   ]
  },
  {
   "cell_type": "markdown",
   "id": "f1a21983-d694-4236-8d85-061d12c26024",
   "metadata": {},
   "source": [
    "Removing outliers"
   ]
  },
  {
   "cell_type": "code",
   "execution_count": 194,
   "id": "5992b3af-633c-41bf-9224-3507d1de0420",
   "metadata": {},
   "outputs": [],
   "source": [
    "transact_data = transact_data[~(transact_data[\"TOT_SALES\"] >= 600)]\n",
    "transact_data = transact_data[~(transact_data[\"PROD_QTY\"] >= 200)]"
   ]
  },
  {
   "cell_type": "code",
   "execution_count": 195,
   "id": "91aa6f7e-fd1f-411e-ae43-2d7133986d04",
   "metadata": {},
   "outputs": [
    {
     "data": {
      "image/png": "[encoded data removed]",
      "text/plain": [
       "<Figure size 640x480 with 2 Axes>"
      ]
     },
     "metadata": {},
     "output_type": "display_data"
    }
   ],
   "source": [
    "import matplotlib.pyplot as plt\n",
    "\n",
    "fig, ax = plt.subplots(2)\n",
    "\n",
    "sns.boxplot(data=transact_data, x=transact_data[\"TOT_SALES\"], ax=ax[0])\n",
    "sns.boxplot(data=transact_data, x=transact_data[\"PROD_QTY\"], ax=ax[1])\n",
    "\n",
    "plt.show()"
   ]
  },
  {
   "cell_type": "code",
   "execution_count": null,
   "id": "09ff910f-5cf8-4145-91ec-06abe51e81df",
   "metadata": {},
   "outputs": [],
   "source": []
  }
 ],
 "metadata": {
  "kernelspec": {
   "display_name": "Python 3 (ipykernel)",
   "language": "python",
   "name": "python3"
  },
  "language_info": {
   "codemirror_mode": {
    "name": "ipython",
    "version": 3
   },
   "file_extension": ".py",
   "mimetype": "text/x-python",
   "name": "python",
   "nbconvert_exporter": "python",
   "pygments_lexer": "ipython3",
   "version": "3.10.4"
  }
 },
 "nbformat": 4,
 "nbformat_minor": 5
}
