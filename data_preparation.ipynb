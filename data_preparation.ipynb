{
 "cells": [
  {
   "cell_type": "markdown",
   "id": "67a45b31-b4c4-41e2-9745-c67cc8226477",
   "metadata": {},
   "source": [
    "# Data preparation"
   ]
  },
  {
   "cell_type": "markdown",
   "id": "01c3af3d-af4f-49a7-a41c-8422271e1a5a",
   "metadata": {},
   "source": [
    "## Load the data"
   ]
  },
  {
   "cell_type": "code",
   "execution_count": 1073,
   "id": "1e839555-81c2-4f3b-9ecc-d72c14cf038b",
   "metadata": {},
   "outputs": [],
   "source": [
    "import pandas as pd"
   ]
  },
  {
   "cell_type": "markdown",
   "id": "7702aa9f-12bf-49d2-bed5-52d6fdbbcfb3",
   "metadata": {},
   "source": [
    "Load transaction data"
   ]
  },
  {
   "cell_type": "code",
   "execution_count": 1074,
   "id": "6fac1c6b-2120-4f85-a066-1cbe77b73a51",
   "metadata": {},
   "outputs": [],
   "source": [
    "transact_data = pd.read_csv(\"./data/QVI_transaction_data.csv\")"
   ]
  },
  {
   "cell_type": "markdown",
   "id": "77247994-7dcb-4155-866a-263f8196c44f",
   "metadata": {},
   "source": [
    "Load customer data"
   ]
  },
  {
   "cell_type": "code",
   "execution_count": 1075,
   "id": "a269013d-8df3-4605-b7b8-db1d08200b4a",
   "metadata": {},
   "outputs": [],
   "source": [
    "cust_data = pd.read_csv(\"./data/QVI_purchase_behaviour.csv\")"
   ]
  },
  {
   "cell_type": "code",
   "execution_count": 1076,
   "id": "65c1b0df-c96a-45fb-8839-1e5cec0a3dc4",
   "metadata": {},
   "outputs": [],
   "source": [
    "pd.set_option('display.max_rows', None)"
   ]
  },
  {
   "cell_type": "markdown",
   "id": "75cf98d9-17fd-43f5-9919-d9aa04655071",
   "metadata": {},
   "source": [
    "## Transaction data"
   ]
  },
  {
   "cell_type": "code",
   "execution_count": 1077,
   "id": "4ba3f480-68f1-43bd-a0d1-edbf833f3311",
   "metadata": {},
   "outputs": [
    {
     "data": {
      "text/html": [
       "<div>\n",
       "<style scoped>\n",
       "    .dataframe tbody tr th:only-of-type {\n",
       "        vertical-align: middle;\n",
       "    }\n",
       "\n",
       "    .dataframe tbody tr th {\n",
       "        vertical-align: top;\n",
       "    }\n",
       "\n",
       "    .dataframe thead th {\n",
       "        text-align: right;\n",
       "    }\n",
       "</style>\n",
       "<table border=\"1\" class=\"dataframe\">\n",
       "  <thead>\n",
       "    <tr style=\"text-align: right;\">\n",
       "      <th></th>\n",
       "      <th>DATE</th>\n",
       "      <th>STORE_NBR</th>\n",
       "      <th>LYLTY_CARD_NBR</th>\n",
       "      <th>TXN_ID</th>\n",
       "      <th>PROD_NBR</th>\n",
       "      <th>PROD_NAME</th>\n",
       "      <th>PROD_QTY</th>\n",
       "      <th>TOT_SALES</th>\n",
       "    </tr>\n",
       "  </thead>\n",
       "  <tbody>\n",
       "    <tr>\n",
       "      <th>0</th>\n",
       "      <td>43390</td>\n",
       "      <td>1</td>\n",
       "      <td>1000</td>\n",
       "      <td>1</td>\n",
       "      <td>5</td>\n",
       "      <td>Natural Chip        Compny SeaSalt175g</td>\n",
       "      <td>2</td>\n",
       "      <td>6.0</td>\n",
       "    </tr>\n",
       "    <tr>\n",
       "      <th>1</th>\n",
       "      <td>43599</td>\n",
       "      <td>1</td>\n",
       "      <td>1307</td>\n",
       "      <td>348</td>\n",
       "      <td>66</td>\n",
       "      <td>CCs Nacho Cheese    175g</td>\n",
       "      <td>3</td>\n",
       "      <td>6.3</td>\n",
       "    </tr>\n",
       "    <tr>\n",
       "      <th>2</th>\n",
       "      <td>43605</td>\n",
       "      <td>1</td>\n",
       "      <td>1343</td>\n",
       "      <td>383</td>\n",
       "      <td>61</td>\n",
       "      <td>Smiths Crinkle Cut  Chips Chicken 170g</td>\n",
       "      <td>2</td>\n",
       "      <td>2.9</td>\n",
       "    </tr>\n",
       "    <tr>\n",
       "      <th>3</th>\n",
       "      <td>43329</td>\n",
       "      <td>2</td>\n",
       "      <td>2373</td>\n",
       "      <td>974</td>\n",
       "      <td>69</td>\n",
       "      <td>Smiths Chip Thinly  S/Cream&amp;Onion 175g</td>\n",
       "      <td>5</td>\n",
       "      <td>15.0</td>\n",
       "    </tr>\n",
       "    <tr>\n",
       "      <th>4</th>\n",
       "      <td>43330</td>\n",
       "      <td>2</td>\n",
       "      <td>2426</td>\n",
       "      <td>1038</td>\n",
       "      <td>108</td>\n",
       "      <td>Kettle Tortilla ChpsHny&amp;Jlpno Chili 150g</td>\n",
       "      <td>3</td>\n",
       "      <td>13.8</td>\n",
       "    </tr>\n",
       "  </tbody>\n",
       "</table>\n",
       "</div>"
      ],
      "text/plain": [
       "    DATE  STORE_NBR  LYLTY_CARD_NBR  TXN_ID  PROD_NBR   \n",
       "0  43390          1            1000       1         5  \\\n",
       "1  43599          1            1307     348        66   \n",
       "2  43605          1            1343     383        61   \n",
       "3  43329          2            2373     974        69   \n",
       "4  43330          2            2426    1038       108   \n",
       "\n",
       "                                  PROD_NAME  PROD_QTY  TOT_SALES  \n",
       "0    Natural Chip        Compny SeaSalt175g         2        6.0  \n",
       "1                  CCs Nacho Cheese    175g         3        6.3  \n",
       "2    Smiths Crinkle Cut  Chips Chicken 170g         2        2.9  \n",
       "3    Smiths Chip Thinly  S/Cream&Onion 175g         5       15.0  \n",
       "4  Kettle Tortilla ChpsHny&Jlpno Chili 150g         3       13.8  "
      ]
     },
     "execution_count": 1077,
     "metadata": {},
     "output_type": "execute_result"
    }
   ],
   "source": [
    "transact_data.head()"
   ]
  },
  {
   "cell_type": "code",
   "execution_count": 1078,
   "id": "66f5885b-dda1-4a1f-8214-019ca6a59976",
   "metadata": {},
   "outputs": [
    {
     "name": "stdout",
     "output_type": "stream",
     "text": [
      "<class 'pandas.core.frame.DataFrame'>\n",
      "RangeIndex: 264836 entries, 0 to 264835\n",
      "Data columns (total 8 columns):\n",
      " #   Column          Non-Null Count   Dtype  \n",
      "---  ------          --------------   -----  \n",
      " 0   DATE            264836 non-null  int64  \n",
      " 1   STORE_NBR       264836 non-null  int64  \n",
      " 2   LYLTY_CARD_NBR  264836 non-null  int64  \n",
      " 3   TXN_ID          264836 non-null  int64  \n",
      " 4   PROD_NBR        264836 non-null  int64  \n",
      " 5   PROD_NAME       264836 non-null  object \n",
      " 6   PROD_QTY        264836 non-null  int64  \n",
      " 7   TOT_SALES       264836 non-null  float64\n",
      "dtypes: float64(1), int64(6), object(1)\n",
      "memory usage: 16.2+ MB\n"
     ]
    }
   ],
   "source": [
    "transact_data.info()"
   ]
  },
  {
   "cell_type": "code",
   "execution_count": 1079,
   "id": "f52a0243-2fba-4576-89a7-fcd1160b37a3",
   "metadata": {},
   "outputs": [
    {
     "data": {
      "text/plain": [
       "0"
      ]
     },
     "execution_count": 1079,
     "metadata": {},
     "output_type": "execute_result"
    }
   ],
   "source": [
    "transact_data.isna().sum().sum()"
   ]
  },
  {
   "cell_type": "markdown",
   "id": "c8231a56-c153-4228-afac-8aec6cb8f61d",
   "metadata": {},
   "source": [
    "So there are zero null values."
   ]
  },
  {
   "cell_type": "markdown",
   "id": "2609f63b-6cf3-4cf3-a14d-b0b083479624",
   "metadata": {},
   "source": [
    "### Chaging the date format"
   ]
  },
  {
   "cell_type": "code",
   "execution_count": 1080,
   "id": "369b53b1-61b0-454e-a5d9-3a9e699e9fdf",
   "metadata": {},
   "outputs": [],
   "source": [
    "transact_data[\"DATE\"] = pd.to_datetime(transact_data[\"DATE\"], unit=\"D\", origin='1899-12-30')"
   ]
  },
  {
   "cell_type": "code",
   "execution_count": 1081,
   "id": "9c295239-776e-452c-b142-ff360dc0f9ac",
   "metadata": {},
   "outputs": [
    {
     "data": {
      "text/html": [
       "<div>\n",
       "<style scoped>\n",
       "    .dataframe tbody tr th:only-of-type {\n",
       "        vertical-align: middle;\n",
       "    }\n",
       "\n",
       "    .dataframe tbody tr th {\n",
       "        vertical-align: top;\n",
       "    }\n",
       "\n",
       "    .dataframe thead th {\n",
       "        text-align: right;\n",
       "    }\n",
       "</style>\n",
       "<table border=\"1\" class=\"dataframe\">\n",
       "  <thead>\n",
       "    <tr style=\"text-align: right;\">\n",
       "      <th></th>\n",
       "      <th>DATE</th>\n",
       "      <th>STORE_NBR</th>\n",
       "      <th>LYLTY_CARD_NBR</th>\n",
       "      <th>TXN_ID</th>\n",
       "      <th>PROD_NBR</th>\n",
       "      <th>PROD_NAME</th>\n",
       "      <th>PROD_QTY</th>\n",
       "      <th>TOT_SALES</th>\n",
       "    </tr>\n",
       "  </thead>\n",
       "  <tbody>\n",
       "    <tr>\n",
       "      <th>0</th>\n",
       "      <td>2018-10-17</td>\n",
       "      <td>1</td>\n",
       "      <td>1000</td>\n",
       "      <td>1</td>\n",
       "      <td>5</td>\n",
       "      <td>Natural Chip        Compny SeaSalt175g</td>\n",
       "      <td>2</td>\n",
       "      <td>6.0</td>\n",
       "    </tr>\n",
       "    <tr>\n",
       "      <th>1</th>\n",
       "      <td>2019-05-14</td>\n",
       "      <td>1</td>\n",
       "      <td>1307</td>\n",
       "      <td>348</td>\n",
       "      <td>66</td>\n",
       "      <td>CCs Nacho Cheese    175g</td>\n",
       "      <td>3</td>\n",
       "      <td>6.3</td>\n",
       "    </tr>\n",
       "    <tr>\n",
       "      <th>2</th>\n",
       "      <td>2019-05-20</td>\n",
       "      <td>1</td>\n",
       "      <td>1343</td>\n",
       "      <td>383</td>\n",
       "      <td>61</td>\n",
       "      <td>Smiths Crinkle Cut  Chips Chicken 170g</td>\n",
       "      <td>2</td>\n",
       "      <td>2.9</td>\n",
       "    </tr>\n",
       "    <tr>\n",
       "      <th>3</th>\n",
       "      <td>2018-08-17</td>\n",
       "      <td>2</td>\n",
       "      <td>2373</td>\n",
       "      <td>974</td>\n",
       "      <td>69</td>\n",
       "      <td>Smiths Chip Thinly  S/Cream&amp;Onion 175g</td>\n",
       "      <td>5</td>\n",
       "      <td>15.0</td>\n",
       "    </tr>\n",
       "    <tr>\n",
       "      <th>4</th>\n",
       "      <td>2018-08-18</td>\n",
       "      <td>2</td>\n",
       "      <td>2426</td>\n",
       "      <td>1038</td>\n",
       "      <td>108</td>\n",
       "      <td>Kettle Tortilla ChpsHny&amp;Jlpno Chili 150g</td>\n",
       "      <td>3</td>\n",
       "      <td>13.8</td>\n",
       "    </tr>\n",
       "  </tbody>\n",
       "</table>\n",
       "</div>"
      ],
      "text/plain": [
       "        DATE  STORE_NBR  LYLTY_CARD_NBR  TXN_ID  PROD_NBR   \n",
       "0 2018-10-17          1            1000       1         5  \\\n",
       "1 2019-05-14          1            1307     348        66   \n",
       "2 2019-05-20          1            1343     383        61   \n",
       "3 2018-08-17          2            2373     974        69   \n",
       "4 2018-08-18          2            2426    1038       108   \n",
       "\n",
       "                                  PROD_NAME  PROD_QTY  TOT_SALES  \n",
       "0    Natural Chip        Compny SeaSalt175g         2        6.0  \n",
       "1                  CCs Nacho Cheese    175g         3        6.3  \n",
       "2    Smiths Crinkle Cut  Chips Chicken 170g         2        2.9  \n",
       "3    Smiths Chip Thinly  S/Cream&Onion 175g         5       15.0  \n",
       "4  Kettle Tortilla ChpsHny&Jlpno Chili 150g         3       13.8  "
      ]
     },
     "execution_count": 1081,
     "metadata": {},
     "output_type": "execute_result"
    }
   ],
   "source": [
    "transact_data.head()"
   ]
  },
  {
   "cell_type": "markdown",
   "id": "aed6c625-02a6-4db6-886b-b0d4a3d427a8",
   "metadata": {},
   "source": [
    "### Categorical values"
   ]
  },
  {
   "cell_type": "markdown",
   "id": "2f2c6347-ed95-456c-be34-f0c601625cb8",
   "metadata": {},
   "source": [
    "`PROD_NAME` (product name) contains categorical values."
   ]
  },
  {
   "cell_type": "code",
   "execution_count": 1082,
   "id": "368b54af-9d47-49e3-9d38-bcf562eabe10",
   "metadata": {},
   "outputs": [
    {
     "data": {
      "text/plain": [
       "PROD_NAME\n",
       "Kettle Mozzarella   Basil & Pesto 175g      3304\n",
       "Kettle Tortilla ChpsHny&Jlpno Chili 150g    3296\n",
       "Cobs Popd Swt/Chlli &Sr/Cream Chips 110g    3269\n",
       "Tyrrells Crisps     Ched & Chives 165g      3268\n",
       "Cobs Popd Sea Salt  Chips 110g              3265\n",
       "Name: count, dtype: int64"
      ]
     },
     "execution_count": 1082,
     "metadata": {},
     "output_type": "execute_result"
    }
   ],
   "source": [
    "transact_data[\"PROD_NAME\"].value_counts().head()"
   ]
  },
  {
   "cell_type": "markdown",
   "id": "82095238-0607-4c76-b913-6b59df853acb",
   "metadata": {},
   "source": [
    "There are 114 types of chips products."
   ]
  },
  {
   "cell_type": "markdown",
   "id": "1b3e094a-c418-4b2f-84db-ecbcffa728d8",
   "metadata": {},
   "source": [
    "Changing the `PROD_NAME` type to category."
   ]
  },
  {
   "cell_type": "code",
   "execution_count": 1083,
   "id": "14b89274-ba63-4839-89fc-24ae3100ff52",
   "metadata": {},
   "outputs": [],
   "source": [
    "transact_data[\"PROD_NAME\"] = transact_data[\"PROD_NAME\"].astype(\"category\")"
   ]
  },
  {
   "cell_type": "markdown",
   "id": "243a6bf3-6f51-4e75-9877-b089b763e83e",
   "metadata": {},
   "source": [
    "`STORE_NBR` (store number) is also a categorical column."
   ]
  },
  {
   "cell_type": "code",
   "execution_count": 1084,
   "id": "72c31439-dbec-4617-a49e-9d0ced6957c3",
   "metadata": {},
   "outputs": [
    {
     "data": {
      "text/plain": [
       "STORE_NBR\n",
       "226    2022\n",
       "88     1873\n",
       "93     1832\n",
       "165    1819\n",
       "237    1785\n",
       "Name: count, dtype: int64"
      ]
     },
     "execution_count": 1084,
     "metadata": {},
     "output_type": "execute_result"
    }
   ],
   "source": [
    "transact_data[\"STORE_NBR\"].value_counts().head()"
   ]
  },
  {
   "cell_type": "code",
   "execution_count": 1085,
   "id": "b0864eba-8034-42a3-a1cd-7b5821c8064b",
   "metadata": {},
   "outputs": [],
   "source": [
    "transact_data[\"STORE_NBR\"] = transact_data[\"STORE_NBR\"].astype(\"category\")"
   ]
  },
  {
   "cell_type": "code",
   "execution_count": 1086,
   "id": "e176e511-ec16-450a-a79c-4077db6d92d5",
   "metadata": {},
   "outputs": [
    {
     "name": "stdout",
     "output_type": "stream",
     "text": [
      "<class 'pandas.core.frame.DataFrame'>\n",
      "RangeIndex: 264836 entries, 0 to 264835\n",
      "Data columns (total 8 columns):\n",
      " #   Column          Non-Null Count   Dtype         \n",
      "---  ------          --------------   -----         \n",
      " 0   DATE            264836 non-null  datetime64[ns]\n",
      " 1   STORE_NBR       264836 non-null  category      \n",
      " 2   LYLTY_CARD_NBR  264836 non-null  int64         \n",
      " 3   TXN_ID          264836 non-null  int64         \n",
      " 4   PROD_NBR        264836 non-null  int64         \n",
      " 5   PROD_NAME       264836 non-null  category      \n",
      " 6   PROD_QTY        264836 non-null  int64         \n",
      " 7   TOT_SALES       264836 non-null  float64       \n",
      "dtypes: category(2), datetime64[ns](1), float64(1), int64(4)\n",
      "memory usage: 12.9 MB\n"
     ]
    }
   ],
   "source": [
    "transact_data.info()"
   ]
  },
  {
   "cell_type": "markdown",
   "id": "c7b38402-a48f-4b54-ae14-7c7329d48401",
   "metadata": {},
   "source": [
    "### Outliers detection"
   ]
  },
  {
   "cell_type": "code",
   "execution_count": 1087,
   "id": "604f97c0-66ee-4bac-a694-5a1fbb387f1e",
   "metadata": {},
   "outputs": [],
   "source": [
    "import seaborn as sns"
   ]
  },
  {
   "cell_type": "code",
   "execution_count": 1088,
   "id": "32822f8d-47d4-45a1-9909-eb0c9b71ce10",
   "metadata": {},
   "outputs": [
    {
     "data": {
      "text/plain": [
       "<AxesSubplot: xlabel='TOT_SALES'>"
      ]
     },
     "execution_count": 1088,
     "metadata": {},
     "output_type": "execute_result"
    },
    {
     "data": {
      "image/png": "[encoded data removed]",
      "text/plain": [
       "<Figure size 640x480 with 1 Axes>"
      ]
     },
     "metadata": {},
     "output_type": "display_data"
    }
   ],
   "source": [
    "sns.boxplot(data=transact_data, x=transact_data[\"TOT_SALES\"])"
   ]
  },
  {
   "cell_type": "markdown",
   "id": "fd13ff28-0910-483d-bc12-70ea3ab985c7",
   "metadata": {},
   "source": [
    "Using the boxplot we can identify that observations with TOT_SALES greater than 600 can be considered outliers"
   ]
  },
  {
   "cell_type": "code",
   "execution_count": 1089,
   "id": "1b8e9d12-cab9-44f8-bd60-d8992e0f5bd9",
   "metadata": {},
   "outputs": [
    {
     "data": {
      "text/plain": [
       "2"
      ]
     },
     "execution_count": 1089,
     "metadata": {},
     "output_type": "execute_result"
    }
   ],
   "source": [
    "len(transact_data[transact_data[\"TOT_SALES\"] >= 600])"
   ]
  },
  {
   "cell_type": "code",
   "execution_count": 1090,
   "id": "52e90aa1-6574-4d2b-8f80-89cca235cd2f",
   "metadata": {},
   "outputs": [
    {
     "data": {
      "text/plain": [
       "<AxesSubplot: xlabel='PROD_QTY'>"
      ]
     },
     "execution_count": 1090,
     "metadata": {},
     "output_type": "execute_result"
    },
    {
     "data": {
      "image/png": "[encoded data removed]",
      "text/plain": [
       "<Figure size 640x480 with 1 Axes>"
      ]
     },
     "metadata": {},
     "output_type": "display_data"
    }
   ],
   "source": [
    "sns.boxplot(data=transact_data, x=transact_data[\"PROD_QTY\"])"
   ]
  },
  {
   "cell_type": "markdown",
   "id": "7f57c6fc-2c42-42bf-9b55-853f28fc2427",
   "metadata": {},
   "source": [
    "Observations with `PROD_QTY` greater than 200 can be considered outliers"
   ]
  },
  {
   "cell_type": "code",
   "execution_count": 1091,
   "id": "09efb082-9b34-49f5-bde8-6727e38c03b7",
   "metadata": {},
   "outputs": [
    {
     "data": {
      "text/plain": [
       "2"
      ]
     },
     "execution_count": 1091,
     "metadata": {},
     "output_type": "execute_result"
    }
   ],
   "source": [
    "len(transact_data[transact_data[\"PROD_QTY\"] >= 200])"
   ]
  },
  {
   "cell_type": "markdown",
   "id": "f1a21983-d694-4236-8d85-061d12c26024",
   "metadata": {},
   "source": [
    "Removing outliers"
   ]
  },
  {
   "cell_type": "code",
   "execution_count": 1092,
   "id": "5992b3af-633c-41bf-9224-3507d1de0420",
   "metadata": {},
   "outputs": [],
   "source": [
    "transact_data = transact_data[~(transact_data[\"TOT_SALES\"] >= 600)]\n",
    "transact_data = transact_data[~(transact_data[\"PROD_QTY\"] >= 200)]"
   ]
  },
  {
   "cell_type": "code",
   "execution_count": 1093,
   "id": "91aa6f7e-fd1f-411e-ae43-2d7133986d04",
   "metadata": {},
   "outputs": [
    {
     "data": {
      "image/png": "[encoded data removed]",
      "text/plain": [
       "<Figure size 640x480 with 2 Axes>"
      ]
     },
     "metadata": {},
     "output_type": "display_data"
    }
   ],
   "source": [
    "import matplotlib.pyplot as plt\n",
    "\n",
    "fig, ax = plt.subplots(2)\n",
    "\n",
    "sns.boxplot(data=transact_data, x=transact_data[\"TOT_SALES\"], ax=ax[0])\n",
    "sns.boxplot(data=transact_data, x=transact_data[\"PROD_QTY\"], ax=ax[1])\n",
    "\n",
    "plt.show()"
   ]
  },
  {
   "cell_type": "markdown",
   "id": "98ea62e5-b339-46dd-bf97-307bed4372a5",
   "metadata": {},
   "source": [
    "### Removing non-chips items"
   ]
  },
  {
   "cell_type": "code",
   "execution_count": 1094,
   "id": "2ea4272b-8f13-4286-8ab7-d06c61a4e138",
   "metadata": {},
   "outputs": [],
   "source": [
    "def remove_non_chips(str, non_chips_list):\n",
    "    if str not in non_chips_list:\n",
    "        return True\n",
    "    else:\n",
    "        return False"
   ]
  },
  {
   "cell_type": "code",
   "execution_count": 1095,
   "id": "5bbd06d2-1af4-4aaf-b9d1-dcdd5528c496",
   "metadata": {},
   "outputs": [
    {
     "data": {
      "text/plain": [
       "['Natural Chip        Compny SeaSalt175g', 'CCs Nacho Cheese    175g', 'Smiths Crinkle Cut  Chips Chicken 170g', 'Smiths Chip Thinly  S/Cream&Onion 175g', 'Kettle Tortilla ChpsHny&Jlpno Chili 150g', ..., 'Red Rock Deli Chikn&Garlic Aioli 150g', 'RRD SR Slow Rst     Pork Belly 150g', 'RRD Pc Sea Salt     165g', 'Smith Crinkle Cut   Bolognese 150g', 'Doritos Salsa Mild  300g']\n",
       "Length: 114\n",
       "Categories (114, object): ['Burger Rings 220g', 'CCs Nacho Cheese    175g', 'CCs Original 175g', 'CCs Tasty Cheese    175g', ..., 'WW Supreme Cheese   Corn Chips 200g', 'Woolworths Cheese   Rings 190g', 'Woolworths Medium   Salsa 300g', 'Woolworths Mild     Salsa 300g']"
      ]
     },
     "execution_count": 1095,
     "metadata": {},
     "output_type": "execute_result"
    }
   ],
   "source": [
    "transact_data[\"PROD_NAME\"].unique()\n"
   ]
  },
  {
   "cell_type": "markdown",
   "id": "00e29b4a-8490-4441-a176-ed6a005d1138",
   "metadata": {},
   "source": [
    "There are some non-chips items in products names."
   ]
  },
  {
   "cell_type": "code",
   "execution_count": 1096,
   "id": "ab5a193a-fa35-4798-bb1d-85a3f5ba9717",
   "metadata": {},
   "outputs": [],
   "source": [
    "non_chips_list = [\n",
    "             'Doritos Salsa       Medium 300g', \n",
    "             'Doritos Salsa Mild  300g',\n",
    "             'Old El Paso Salsa   Dip Chnky Tom Ht300g',\n",
    "             'Old El Paso Salsa   Dip Tomato Med 300g',\n",
    "             'Old El Paso Salsa   Dip Tomato Mild 300g',\n",
    "             'Woolworths Medium   Salsa 300g',\n",
    "             'Woolworths Mild     Salsa 300g'\n",
    "]"
   ]
  },
  {
   "cell_type": "code",
   "execution_count": 1097,
   "id": "2029e9d1-0cc6-4d36-803b-79b456a607dd",
   "metadata": {},
   "outputs": [],
   "source": [
    "transact_data = transact_data[transact_data[\"PROD_NAME\"].apply(lambda x: remove_non_chips(x, non_chips_list))]"
   ]
  },
  {
   "cell_type": "code",
   "execution_count": 1098,
   "id": "31bc905c-58be-4d47-9589-df8aef655d2b",
   "metadata": {},
   "outputs": [
    {
     "data": {
      "text/plain": [
       "['Natural Chip        Compny SeaSalt175g', 'CCs Nacho Cheese    175g', 'Smiths Crinkle Cut  Chips Chicken 170g', 'Smiths Chip Thinly  S/Cream&Onion 175g', 'Kettle Tortilla ChpsHny&Jlpno Chili 150g', ..., 'Natural ChipCo Sea  Salt & Vinegr 175g', 'Red Rock Deli Chikn&Garlic Aioli 150g', 'RRD SR Slow Rst     Pork Belly 150g', 'RRD Pc Sea Salt     165g', 'Smith Crinkle Cut   Bolognese 150g']\n",
       "Length: 107\n",
       "Categories (107, object): ['Burger Rings 220g', 'CCs Nacho Cheese    175g', 'CCs Original 175g', 'CCs Tasty Cheese    175g', ..., 'WW Original Stacked Chips 160g', 'WW Sour Cream &OnionStacked Chips 160g', 'WW Supreme Cheese   Corn Chips 200g', 'Woolworths Cheese   Rings 190g']"
      ]
     },
     "execution_count": 1098,
     "metadata": {},
     "output_type": "execute_result"
    }
   ],
   "source": [
    "transact_data[\"PROD_NAME\"] = transact_data[\"PROD_NAME\"].cat.remove_categories(non_chips_list)\n",
    "transact_data[\"PROD_NAME\"].unique()"
   ]
  },
  {
   "cell_type": "code",
   "execution_count": 1099,
   "id": "c840a855-0b58-499e-b91f-7a83f55c0089",
   "metadata": {},
   "outputs": [
    {
     "name": "stdout",
     "output_type": "stream",
     "text": [
      "<class 'pandas.core.frame.DataFrame'>\n",
      "Index: 249668 entries, 0 to 264835\n",
      "Data columns (total 8 columns):\n",
      " #   Column          Non-Null Count   Dtype         \n",
      "---  ------          --------------   -----         \n",
      " 0   DATE            249668 non-null  datetime64[ns]\n",
      " 1   STORE_NBR       249668 non-null  category      \n",
      " 2   LYLTY_CARD_NBR  249668 non-null  int64         \n",
      " 3   TXN_ID          249668 non-null  int64         \n",
      " 4   PROD_NBR        249668 non-null  int64         \n",
      " 5   PROD_NAME       249668 non-null  category      \n",
      " 6   PROD_QTY        249668 non-null  int64         \n",
      " 7   TOT_SALES       249668 non-null  float64       \n",
      "dtypes: category(2), datetime64[ns](1), float64(1), int64(4)\n",
      "memory usage: 14.1 MB\n"
     ]
    }
   ],
   "source": [
    "transact_data.info()"
   ]
  },
  {
   "cell_type": "markdown",
   "id": "2ea22acd-179a-43e0-b668-3aa8e4033f65",
   "metadata": {},
   "source": [
    "### Making product names consistent"
   ]
  },
  {
   "cell_type": "code",
   "execution_count": 1100,
   "id": "767d7020-d9a4-4b8b-8f50-e1e12d28ac2f",
   "metadata": {},
   "outputs": [
    {
     "data": {
      "text/plain": [
       "0        Natural Chip        Compny SeaSalt175g\n",
       "1                      CCs Nacho Cheese    175g\n",
       "2        Smiths Crinkle Cut  Chips Chicken 170g\n",
       "3        Smiths Chip Thinly  S/Cream&Onion 175g\n",
       "4      Kettle Tortilla ChpsHny&Jlpno Chili 150g\n",
       "5      Smiths Crinkle Chips Salt & Vinegar 330g\n",
       "6         Grain Waves         Sweet Chilli 210g\n",
       "7       Doritos Corn Chip Mexican Jalapeno 150g\n",
       "8         Grain Waves Sour    Cream&Chives 210G\n",
       "9         Kettle Sensations   Siracha Lime 150g\n",
       "10                     Twisties Cheese     270g\n",
       "11             WW Crinkle Cut      Chicken 175g\n",
       "12               Thins Chips Light&  Tangy 175g\n",
       "13                            CCs Original 175g\n",
       "14                            Burger Rings 220g\n",
       "15       NCC Sour Cream &    Garden Chives 175g\n",
       "16      Doritos Corn Chip Southern Chicken 150g\n",
       "17                     Cheezels Cheese Box 125g\n",
       "18            Smiths Crinkle      Original 330g\n",
       "19       Infzns Crn Crnchers Tangy Gcamole 110g\n",
       "20         Kettle Sea Salt     And Vinegar 175g\n",
       "21        Smiths Chip Thinly  Cut Original 175g\n",
       "22                         Kettle Original 175g\n",
       "23         Red Rock Deli Thai  Chilli&Lime 150g\n",
       "24             Pringles Sthrn FriedChicken 134g\n",
       "25                 Pringles Sweet&Spcy BBQ 134g\n",
       "26     Red Rock Deli SR    Salsa & Mzzrlla 150g\n",
       "27       Thins Chips         Originl saltd 175g\n",
       "28      Red Rock Deli Sp    Salt & Truffle 150G\n",
       "29     Smiths Thinly       Swt Chli&S/Cream175G\n",
       "30                           Kettle Chilli 175g\n",
       "31                     Doritos Mexicana    170g\n",
       "32     Smiths Crinkle Cut  French OnionDip 150g\n",
       "33       Natural ChipCo      Hony Soy Chckn175g\n",
       "34             Dorito Corn Chp     Supreme 380g\n",
       "35                         Twisties Chicken270g\n",
       "36       Smiths Thinly Cut   Roast Chicken 175g\n",
       "37        Smiths Crinkle Cut  Tomato Salsa 150g\n",
       "38       Kettle Mozzarella   Basil & Pesto 175g\n",
       "39     Infuzions Thai SweetChili PotatoMix 110g\n",
       "40     Kettle Sensations   Camembert & Fig 150g\n",
       "41        Smith Crinkle Cut   Mac N Cheese 150g\n",
       "42             Kettle Honey Soy    Chicken 175g\n",
       "43             Thins Chips Seasonedchicken 175g\n",
       "44      Smiths Crinkle Cut  Salt & Vinegar 170g\n",
       "45      Infuzions BBQ Rib   Prawn Crackers 110g\n",
       "46        GrnWves Plus Btroot & Chilli Jam 180g\n",
       "47      Tyrrells Crisps     Lightly Salted 165g\n",
       "48      Kettle Sweet Chilli And Sour Cream 175g\n",
       "49                 Kettle 135g Swt Pot Sea Salt\n",
       "50               Pringles SourCream  Onion 134g\n",
       "51            Doritos Corn Chips  Original 170g\n",
       "52              Twisties Cheese     Burger 250g\n",
       "53     Cobs Popd Swt/Chlli &Sr/Cream Chips 110g\n",
       "54      Natural Chip Co     Tmato Hrb&Spce 175g\n",
       "55      Smiths Crinkle Cut  Chips Original 170g\n",
       "56               Cobs Popd Sea Salt  Chips 110g\n",
       "57      Smiths Crinkle Cut  Chips Chs&Onion170g\n",
       "58               French Fries Potato Chips 175g\n",
       "59      Doritos Corn Chips  Cheese Supreme 170g\n",
       "60              Pringles Original   Crisps 134g\n",
       "61             RRD Chilli&         Coconut 150g\n",
       "62               WW Original Corn    Chips 200g\n",
       "63         Thins Potato Chips  Hot & Spicy 175g\n",
       "64       Cobs Popd Sour Crm  &Chives Chips 110g\n",
       "65       Smiths Crnkle Chip  Orgnl Big Bag 380g\n",
       "66        Doritos Corn Chips  Nacho Cheese 170g\n",
       "67           Kettle Sensations   BBQ&Maple 150g\n",
       "68            WW D/Style Chip     Sea Salt 200g\n",
       "69          Pringles Chicken    Salt Crips 134g\n",
       "70               WW Original Stacked Chips 160g\n",
       "71       Smiths Chip Thinly  CutSalt/Vinegr175g\n",
       "72                         Cheezels Cheese 330g\n",
       "73              Tostitos Lightly    Salted 175g\n",
       "74             Thins Chips Salt &  Vinegar 175g\n",
       "75      Smiths Crinkle Cut  Chips Barbecue 170g\n",
       "76                           Cheetos Puffs 165g\n",
       "77          RRD Sweet Chilli &  Sour Cream 165g\n",
       "78            WW Crinkle Cut      Original 175g\n",
       "79                Tostitos Splash Of  Lime 175g\n",
       "80      Kettle Tortilla ChpsBtroot&Ricotta 150g\n",
       "81                     CCs Tasty Cheese    175g\n",
       "82               Woolworths Cheese   Rings 190g\n",
       "83            Tostitos Smoked     Chipotle 175g\n",
       "84                     Pringles Barbeque   134g\n",
       "85          WW Supreme Cheese   Corn Chips 200g\n",
       "86             Pringles Mystery    Flavour 134g\n",
       "87       Tyrrells Crisps     Ched & Chives 165g\n",
       "88         Snbts Whlgrn Crisps Cheddr&Mstrd 90g\n",
       "89               Cheetos Chs & Bacon Balls 190g\n",
       "90                     Pringles Slt Vingar 134g\n",
       "91     Infuzions SourCream&Herbs Veg Strws 110g\n",
       "92         Kettle Tortilla ChpsFeta&Garlic 150g\n",
       "93      Infuzions Mango     Chutny Papadums 70g\n",
       "94         RRD Steak &         Chimuchurri 150g\n",
       "95             RRD Honey Soy       Chicken 165g\n",
       "96     Sunbites Whlegrn    Crisps Frch/Onin 90g\n",
       "97                     RRD Salt & Vinegar  165g\n",
       "98             Doritos Cheese      Supreme 330g\n",
       "99          Smiths Crinkle Cut  Snag&Sauce 150g\n",
       "100      WW Sour Cream &OnionStacked Chips 160g\n",
       "101                    RRD Lime & Pepper   165g\n",
       "102      Natural ChipCo Sea  Salt & Vinegr 175g\n",
       "103       Red Rock Deli Chikn&Garlic Aioli 150g\n",
       "104         RRD SR Slow Rst     Pork Belly 150g\n",
       "105                    RRD Pc Sea Salt     165g\n",
       "106          Smith Crinkle Cut   Bolognese 150g\n",
       "dtype: category\n",
       "Categories (107, object): ['Burger Rings 220g', 'CCs Nacho Cheese    175g', 'CCs Original 175g', 'CCs Tasty Cheese    175g', ..., 'WW Original Stacked Chips 160g', 'WW Sour Cream &OnionStacked Chips 160g', 'WW Supreme Cheese   Corn Chips 200g', 'Woolworths Cheese   Rings 190g']"
      ]
     },
     "execution_count": 1100,
     "metadata": {},
     "output_type": "execute_result"
    }
   ],
   "source": [
    "pd.Series(transact_data[\"PROD_NAME\"].unique())"
   ]
  },
  {
   "cell_type": "markdown",
   "id": "4269bc7c-524b-4303-80a5-2780cea78df6",
   "metadata": {},
   "source": [
    "`Doritos` and `Dorito` refers to brand `Doritos`. There are many such brands in the product name written differently."
   ]
  },
  {
   "cell_type": "code",
   "execution_count": 1101,
   "id": "aa9d563b-f20f-4b87-972f-b54408182a72",
   "metadata": {},
   "outputs": [],
   "source": [
    "consistent_brands_name = {\n",
    "    \"Dorito\": \"Doritos\",\n",
    "    \"French Fries\": \"French_Fries\",\n",
    "    \"Grain Waves\": \"Grain_Waves\",\n",
    "    \"GrnWves\": \"Grain_Waves\",\n",
    "    \"Infzns\": \"Infuzions\",\n",
    "    \"Natural Chip        Compny\": \"Natural_Chip_Co\",\n",
    "    \"NCC\": \"Natural_Chip_Co\",\n",
    "    \"Natural ChipCo\": \"Natural_Chip_Co\",\n",
    "    \"Natural Chip Co\": \"Natural_Chip_Co\",\n",
    "    \"Red Rock Deli\": \"Red_Rock_Deli\",\n",
    "    \"RRD\": \"Red_Rock_Deli\",\n",
    "    \"Smith\": \"Smiths\",\n",
    "    \"Snbts\": \"Sunbites\",\n",
    "    \"WW\": \"Woolworths\"\n",
    "}"
   ]
  },
  {
   "cell_type": "code",
   "execution_count": 1102,
   "id": "1fe805a0-90c3-4ff1-bb41-9bb382cd5453",
   "metadata": {},
   "outputs": [],
   "source": [
    "# transact_data[\"PROD_NAME\"].str.replace(consistent_brands_name, regex=True)\n",
    "transact_data[\"PROD_NAME\"] = transact_data[\"PROD_NAME\"].str.replace(\"Dorito \", \"Doritos \")\n",
    "transact_data[\"PROD_NAME\"] = transact_data[\"PROD_NAME\"].str.replace(\"French Fries \", \"French_Fries \")\n",
    "transact_data[\"PROD_NAME\"] = transact_data[\"PROD_NAME\"].str.replace(\"Grain Waves \", \"Grain_Waves \")\n",
    "transact_data[\"PROD_NAME\"] = transact_data[\"PROD_NAME\"].str.replace(\"GrnWves \", \"Grain_Waves \")\n",
    "transact_data[\"PROD_NAME\"] = transact_data[\"PROD_NAME\"].str.replace(\"Natural Chip        Compny \", \"Natural_Chip_Co \")\n",
    "transact_data[\"PROD_NAME\"] = transact_data[\"PROD_NAME\"].str.replace(\"NCC \", \"Natural_Chip_Co \")\n",
    "transact_data[\"PROD_NAME\"] = transact_data[\"PROD_NAME\"].str.replace(\"Natural ChipCo \", \"Natural_Chip_Co \")\n",
    "transact_data[\"PROD_NAME\"] = transact_data[\"PROD_NAME\"].str.replace(\"Natural Chip Co \", \"Natural_Chip_Co \")\n",
    "transact_data[\"PROD_NAME\"] = transact_data[\"PROD_NAME\"].str.replace(\"Red Rock Deli \", \"Red_Rock_Deli \")\n",
    "transact_data[\"PROD_NAME\"] = transact_data[\"PROD_NAME\"].str.replace(\"RRD \", \"Red_Rock_Deli \")\n",
    "transact_data[\"PROD_NAME\"] = transact_data[\"PROD_NAME\"].str.replace(\"Smith \", \"Smiths \")\n",
    "transact_data[\"PROD_NAME\"] = transact_data[\"PROD_NAME\"].str.replace(\"Snbts \", \"Sunbites \")\n",
    "transact_data[\"PROD_NAME\"] = transact_data[\"PROD_NAME\"].str.replace(\"WW \", \"Woolworths \")"
   ]
  },
  {
   "cell_type": "code",
   "execution_count": 1103,
   "id": "c1e06f58-376a-4bb1-896e-c98e39a8b16b",
   "metadata": {},
   "outputs": [
    {
     "data": {
      "text/plain": [
       "0                            Natural_Chip_Co SeaSalt175g\n",
       "1                               CCs Nacho Cheese    175g\n",
       "2                 Smiths Crinkle Cut  Chips Chicken 170g\n",
       "3                 Smiths Chip Thinly  S/Cream&Onion 175g\n",
       "4               Kettle Tortilla ChpsHny&Jlpno Chili 150g\n",
       "5               Smiths Crinkle Chips Salt & Vinegar 330g\n",
       "6                  Grain_Waves         Sweet Chilli 210g\n",
       "7                Doritos Corn Chip Mexican Jalapeno 150g\n",
       "8                  Grain_Waves Sour    Cream&Chives 210G\n",
       "9                  Kettle Sensations   Siracha Lime 150g\n",
       "10                              Twisties Cheese     270g\n",
       "11              Woolworths Crinkle Cut      Chicken 175g\n",
       "12                        Thins Chips Light&  Tangy 175g\n",
       "13                                     CCs Original 175g\n",
       "14                                     Burger Rings 220g\n",
       "15     Natural_Chip_Co Sour Cream &    Garden Chives ...\n",
       "16               Doritos Corn Chip Southern Chicken 150g\n",
       "17                              Cheezels Cheese Box 125g\n",
       "18                     Smiths Crinkle      Original 330g\n",
       "19                Infzns Crn Crnchers Tangy Gcamole 110g\n",
       "20                  Kettle Sea Salt     And Vinegar 175g\n",
       "21                 Smiths Chip Thinly  Cut Original 175g\n",
       "22                                  Kettle Original 175g\n",
       "23                  Red_Rock_Deli Thai  Chilli&Lime 150g\n",
       "24                      Pringles Sthrn FriedChicken 134g\n",
       "25                          Pringles Sweet&Spcy BBQ 134g\n",
       "26              Red_Rock_Deli SR    Salsa & Mzzrlla 150g\n",
       "27                Thins Chips         Originl saltd 175g\n",
       "28               Red_Rock_Deli Sp    Salt & Truffle 150G\n",
       "29              Smiths Thinly       Swt Chli&S/Cream175G\n",
       "30                                    Kettle Chilli 175g\n",
       "31                              Doritos Mexicana    170g\n",
       "32              Smiths Crinkle Cut  French OnionDip 150g\n",
       "33               Natural_Chip_Co      Hony Soy Chckn175g\n",
       "34                     Doritos Corn Chp     Supreme 380g\n",
       "35                                  Twisties Chicken270g\n",
       "36                Smiths Thinly Cut   Roast Chicken 175g\n",
       "37                 Smiths Crinkle Cut  Tomato Salsa 150g\n",
       "38                Kettle Mozzarella   Basil & Pesto 175g\n",
       "39              Infuzions Thai SweetChili PotatoMix 110g\n",
       "40              Kettle Sensations   Camembert & Fig 150g\n",
       "41                Smiths Crinkle Cut   Mac N Cheese 150g\n",
       "42                      Kettle Honey Soy    Chicken 175g\n",
       "43                      Thins Chips Seasonedchicken 175g\n",
       "44               Smiths Crinkle Cut  Salt & Vinegar 170g\n",
       "45               Infuzions BBQ Rib   Prawn Crackers 110g\n",
       "46             Grain_Waves Plus Btroot & Chilli Jam 180g\n",
       "47               Tyrrells Crisps     Lightly Salted 165g\n",
       "48               Kettle Sweet Chilli And Sour Cream 175g\n",
       "49                          Kettle 135g Swt Pot Sea Salt\n",
       "50                        Pringles SourCream  Onion 134g\n",
       "51                     Doritos Corn Chips  Original 170g\n",
       "52                       Twisties Cheese     Burger 250g\n",
       "53              Cobs Popd Swt/Chlli &Sr/Cream Chips 110g\n",
       "54               Natural_Chip_Co     Tmato Hrb&Spce 175g\n",
       "55               Smiths Crinkle Cut  Chips Original 170g\n",
       "56                        Cobs Popd Sea Salt  Chips 110g\n",
       "57               Smiths Crinkle Cut  Chips Chs&Onion170g\n",
       "58                        French_Fries Potato Chips 175g\n",
       "59               Doritos Corn Chips  Cheese Supreme 170g\n",
       "60                       Pringles Original   Crisps 134g\n",
       "61            Red_Rock_Deli Chilli&         Coconut 150g\n",
       "62                Woolworths Original Corn    Chips 200g\n",
       "63                  Thins Potato Chips  Hot & Spicy 175g\n",
       "64                Cobs Popd Sour Crm  &Chives Chips 110g\n",
       "65                Smiths Crnkle Chip  Orgnl Big Bag 380g\n",
       "66                 Doritos Corn Chips  Nacho Cheese 170g\n",
       "67                    Kettle Sensations   BBQ&Maple 150g\n",
       "68             Woolworths D/Style Chip     Sea Salt 200g\n",
       "69                   Pringles Chicken    Salt Crips 134g\n",
       "70                Woolworths Original Stacked Chips 160g\n",
       "71                Smiths Chip Thinly  CutSalt/Vinegr175g\n",
       "72                                  Cheezels Cheese 330g\n",
       "73                       Tostitos Lightly    Salted 175g\n",
       "74                      Thins Chips Salt &  Vinegar 175g\n",
       "75               Smiths Crinkle Cut  Chips Barbecue 170g\n",
       "76                                    Cheetos Puffs 165g\n",
       "77         Red_Rock_Deli Sweet Chilli &  Sour Cream 165g\n",
       "78             Woolworths Crinkle Cut      Original 175g\n",
       "79                         Tostitos Splash Of  Lime 175g\n",
       "80               Kettle Tortilla ChpsBtroot&Ricotta 150g\n",
       "81                              CCs Tasty Cheese    175g\n",
       "82                        Woolworths Cheese   Rings 190g\n",
       "83                     Tostitos Smoked     Chipotle 175g\n",
       "84                              Pringles Barbeque   134g\n",
       "85           Woolworths Supreme Cheese   Corn Chips 200g\n",
       "86                      Pringles Mystery    Flavour 134g\n",
       "87                Tyrrells Crisps     Ched & Chives 165g\n",
       "88               Sunbites Whlgrn Crisps Cheddr&Mstrd 90g\n",
       "89                        Cheetos Chs & Bacon Balls 190g\n",
       "90                              Pringles Slt Vingar 134g\n",
       "91              Infuzions SourCream&Herbs Veg Strws 110g\n",
       "92                  Kettle Tortilla ChpsFeta&Garlic 150g\n",
       "93               Infuzions Mango     Chutny Papadums 70g\n",
       "94        Red_Rock_Deli Steak &         Chimuchurri 150g\n",
       "95            Red_Rock_Deli Honey Soy       Chicken 165g\n",
       "96              Sunbites Whlegrn    Crisps Frch/Onin 90g\n",
       "97                    Red_Rock_Deli Salt & Vinegar  165g\n",
       "98                      Doritos Cheese      Supreme 330g\n",
       "99                   Smiths Crinkle Cut  Snag&Sauce 150g\n",
       "100       Woolworths Sour Cream &OnionStacked Chips 160g\n",
       "101                   Red_Rock_Deli Lime & Pepper   165g\n",
       "102              Natural_Chip_Co Sea  Salt & Vinegr 175g\n",
       "103                Red_Rock_Deli Chikn&Garlic Aioli 150g\n",
       "104        Red_Rock_Deli SR Slow Rst     Pork Belly 150g\n",
       "105                   Red_Rock_Deli Pc Sea Salt     165g\n",
       "106                  Smiths Crinkle Cut   Bolognese 150g\n",
       "dtype: object"
      ]
     },
     "execution_count": 1103,
     "metadata": {},
     "output_type": "execute_result"
    }
   ],
   "source": [
    "pd.Series(transact_data[\"PROD_NAME\"].unique())"
   ]
  },
  {
   "cell_type": "code",
   "execution_count": 1104,
   "id": "effee53a-e8a8-439b-9484-0edff9573883",
   "metadata": {},
   "outputs": [
    {
     "data": {
      "text/plain": [
       "['Natural_Chip_Co SeaSalt175g', 'CCs Nacho Cheese    175g', 'Smiths Crinkle Cut  Chips Chicken 170g', 'Smiths Chip Thinly  S/Cream&Onion 175g', 'Kettle Tortilla ChpsHny&Jlpno Chili 150g', ..., 'Natural_Chip_Co Sea  Salt & Vinegr 175g', 'Red_Rock_Deli Chikn&Garlic Aioli 150g', 'Red_Rock_Deli SR Slow Rst     Pork Belly 150g', 'Red_Rock_Deli Pc Sea Salt     165g', 'Smiths Crinkle Cut   Bolognese 150g']\n",
       "Length: 107\n",
       "Categories (107, object): ['Burger Rings 220g', 'CCs Nacho Cheese    175g', 'CCs Original 175g', 'CCs Tasty Cheese    175g', ..., 'Woolworths Original Corn    Chips 200g', 'Woolworths Original Stacked Chips 160g', 'Woolworths Sour Cream &OnionStacked Chips 160g', 'Woolworths Supreme Cheese   Corn Chips 200g']"
      ]
     },
     "execution_count": 1104,
     "metadata": {},
     "output_type": "execute_result"
    }
   ],
   "source": [
    "transact_data[\"PROD_NAME\"] = transact_data[\"PROD_NAME\"].astype(\"category\")\n",
    "transact_data[\"PROD_NAME\"].unique()"
   ]
  },
  {
   "cell_type": "markdown",
   "id": "009e1296-0e79-4d35-95c5-a4b5ca6d1e78",
   "metadata": {},
   "source": [
    "### Set brands name"
   ]
  },
  {
   "cell_type": "markdown",
   "id": "3a90e33f-261a-47e4-b205-a9521d88d5ef",
   "metadata": {},
   "source": [
    "Extract brand name in separate column."
   ]
  },
  {
   "cell_type": "code",
   "execution_count": 1124,
   "id": "74732529-d5b3-4eb5-a066-169ae341bde6",
   "metadata": {},
   "outputs": [],
   "source": [
    "transact_data[\"BRANDS\"] = transact_data[\"PROD_NAME\"].apply(lambda x: x.split(\" \")[0])"
   ]
  },
  {
   "cell_type": "markdown",
   "id": "7b9aa91a-8f74-460e-9f23-98cae33bbfd9",
   "metadata": {},
   "source": [
    "### Set weight"
   ]
  },
  {
   "cell_type": "markdown",
   "id": "5e4af4ee-6b61-4caf-b080-5a82b5ef28b5",
   "metadata": {},
   "source": [
    "Extract weight in separate column."
   ]
  },
  {
   "cell_type": "code",
   "execution_count": 1132,
   "id": "544d00f0-8162-4814-a82b-cd411b57ddd9",
   "metadata": {},
   "outputs": [],
   "source": [
    "import re\n",
    "\n",
    "transact_data[\"WEIGHT (g)\"] = transact_data[\"PROD_NAME\"].apply(lambda x: re.findall(r'[0-9]+', x)[0])\n",
    "transact_data[\"WEIGHT (g)\"] = transact_data[\"WEIGHT (g)\"].astype(\"int\")"
   ]
  },
  {
   "cell_type": "code",
   "execution_count": 1133,
   "id": "b9defd98-23d4-4810-9d0e-f4c8e217f5b3",
   "metadata": {},
   "outputs": [
    {
     "data": {
      "text/html": [
       "<div>\n",
       "<style scoped>\n",
       "    .dataframe tbody tr th:only-of-type {\n",
       "        vertical-align: middle;\n",
       "    }\n",
       "\n",
       "    .dataframe tbody tr th {\n",
       "        vertical-align: top;\n",
       "    }\n",
       "\n",
       "    .dataframe thead th {\n",
       "        text-align: right;\n",
       "    }\n",
       "</style>\n",
       "<table border=\"1\" class=\"dataframe\">\n",
       "  <thead>\n",
       "    <tr style=\"text-align: right;\">\n",
       "      <th></th>\n",
       "      <th>DATE</th>\n",
       "      <th>STORE_NBR</th>\n",
       "      <th>LYLTY_CARD_NBR</th>\n",
       "      <th>TXN_ID</th>\n",
       "      <th>PROD_NBR</th>\n",
       "      <th>PROD_NAME</th>\n",
       "      <th>PROD_QTY</th>\n",
       "      <th>TOT_SALES</th>\n",
       "      <th>BRANDS</th>\n",
       "      <th>WEIGHT (g)</th>\n",
       "    </tr>\n",
       "  </thead>\n",
       "  <tbody>\n",
       "    <tr>\n",
       "      <th>0</th>\n",
       "      <td>2018-10-17</td>\n",
       "      <td>1</td>\n",
       "      <td>1000</td>\n",
       "      <td>1</td>\n",
       "      <td>5</td>\n",
       "      <td>Natural_Chip_Co SeaSalt175g</td>\n",
       "      <td>2</td>\n",
       "      <td>6.0</td>\n",
       "      <td>Natural_Chip_Co</td>\n",
       "      <td>175</td>\n",
       "    </tr>\n",
       "    <tr>\n",
       "      <th>1</th>\n",
       "      <td>2019-05-14</td>\n",
       "      <td>1</td>\n",
       "      <td>1307</td>\n",
       "      <td>348</td>\n",
       "      <td>66</td>\n",
       "      <td>CCs Nacho Cheese    175g</td>\n",
       "      <td>3</td>\n",
       "      <td>6.3</td>\n",
       "      <td>CCs</td>\n",
       "      <td>175</td>\n",
       "    </tr>\n",
       "    <tr>\n",
       "      <th>2</th>\n",
       "      <td>2019-05-20</td>\n",
       "      <td>1</td>\n",
       "      <td>1343</td>\n",
       "      <td>383</td>\n",
       "      <td>61</td>\n",
       "      <td>Smiths Crinkle Cut  Chips Chicken 170g</td>\n",
       "      <td>2</td>\n",
       "      <td>2.9</td>\n",
       "      <td>Smiths</td>\n",
       "      <td>170</td>\n",
       "    </tr>\n",
       "    <tr>\n",
       "      <th>3</th>\n",
       "      <td>2018-08-17</td>\n",
       "      <td>2</td>\n",
       "      <td>2373</td>\n",
       "      <td>974</td>\n",
       "      <td>69</td>\n",
       "      <td>Smiths Chip Thinly  S/Cream&amp;Onion 175g</td>\n",
       "      <td>5</td>\n",
       "      <td>15.0</td>\n",
       "      <td>Smiths</td>\n",
       "      <td>175</td>\n",
       "    </tr>\n",
       "    <tr>\n",
       "      <th>4</th>\n",
       "      <td>2018-08-18</td>\n",
       "      <td>2</td>\n",
       "      <td>2426</td>\n",
       "      <td>1038</td>\n",
       "      <td>108</td>\n",
       "      <td>Kettle Tortilla ChpsHny&amp;Jlpno Chili 150g</td>\n",
       "      <td>3</td>\n",
       "      <td>13.8</td>\n",
       "      <td>Kettle</td>\n",
       "      <td>150</td>\n",
       "    </tr>\n",
       "  </tbody>\n",
       "</table>\n",
       "</div>"
      ],
      "text/plain": [
       "        DATE STORE_NBR  LYLTY_CARD_NBR  TXN_ID  PROD_NBR   \n",
       "0 2018-10-17         1            1000       1         5  \\\n",
       "1 2019-05-14         1            1307     348        66   \n",
       "2 2019-05-20         1            1343     383        61   \n",
       "3 2018-08-17         2            2373     974        69   \n",
       "4 2018-08-18         2            2426    1038       108   \n",
       "\n",
       "                                  PROD_NAME  PROD_QTY  TOT_SALES   \n",
       "0               Natural_Chip_Co SeaSalt175g         2        6.0  \\\n",
       "1                  CCs Nacho Cheese    175g         3        6.3   \n",
       "2    Smiths Crinkle Cut  Chips Chicken 170g         2        2.9   \n",
       "3    Smiths Chip Thinly  S/Cream&Onion 175g         5       15.0   \n",
       "4  Kettle Tortilla ChpsHny&Jlpno Chili 150g         3       13.8   \n",
       "\n",
       "            BRANDS  WEIGHT (g)  \n",
       "0  Natural_Chip_Co         175  \n",
       "1              CCs         175  \n",
       "2           Smiths         170  \n",
       "3           Smiths         175  \n",
       "4           Kettle         150  "
      ]
     },
     "execution_count": 1133,
     "metadata": {},
     "output_type": "execute_result"
    }
   ],
   "source": [
    "transact_data.head(5)"
   ]
  },
  {
   "cell_type": "markdown",
   "id": "4a3f3911-0992-4eda-936e-a33bf1862d7e",
   "metadata": {},
   "source": [
    "## Customer data"
   ]
  },
  {
   "cell_type": "code",
   "execution_count": 1106,
   "id": "1e978cfa-f367-4068-8c5b-3aba2a5c0382",
   "metadata": {},
   "outputs": [
    {
     "data": {
      "text/html": [
       "<div>\n",
       "<style scoped>\n",
       "    .dataframe tbody tr th:only-of-type {\n",
       "        vertical-align: middle;\n",
       "    }\n",
       "\n",
       "    .dataframe tbody tr th {\n",
       "        vertical-align: top;\n",
       "    }\n",
       "\n",
       "    .dataframe thead th {\n",
       "        text-align: right;\n",
       "    }\n",
       "</style>\n",
       "<table border=\"1\" class=\"dataframe\">\n",
       "  <thead>\n",
       "    <tr style=\"text-align: right;\">\n",
       "      <th></th>\n",
       "      <th>LYLTY_CARD_NBR</th>\n",
       "      <th>LIFESTAGE</th>\n",
       "      <th>PREMIUM_CUSTOMER</th>\n",
       "    </tr>\n",
       "  </thead>\n",
       "  <tbody>\n",
       "    <tr>\n",
       "      <th>0</th>\n",
       "      <td>1000</td>\n",
       "      <td>YOUNG SINGLES/COUPLES</td>\n",
       "      <td>Premium</td>\n",
       "    </tr>\n",
       "    <tr>\n",
       "      <th>1</th>\n",
       "      <td>1002</td>\n",
       "      <td>YOUNG SINGLES/COUPLES</td>\n",
       "      <td>Mainstream</td>\n",
       "    </tr>\n",
       "    <tr>\n",
       "      <th>2</th>\n",
       "      <td>1003</td>\n",
       "      <td>YOUNG FAMILIES</td>\n",
       "      <td>Budget</td>\n",
       "    </tr>\n",
       "    <tr>\n",
       "      <th>3</th>\n",
       "      <td>1004</td>\n",
       "      <td>OLDER SINGLES/COUPLES</td>\n",
       "      <td>Mainstream</td>\n",
       "    </tr>\n",
       "    <tr>\n",
       "      <th>4</th>\n",
       "      <td>1005</td>\n",
       "      <td>MIDAGE SINGLES/COUPLES</td>\n",
       "      <td>Mainstream</td>\n",
       "    </tr>\n",
       "  </tbody>\n",
       "</table>\n",
       "</div>"
      ],
      "text/plain": [
       "   LYLTY_CARD_NBR               LIFESTAGE PREMIUM_CUSTOMER\n",
       "0            1000   YOUNG SINGLES/COUPLES          Premium\n",
       "1            1002   YOUNG SINGLES/COUPLES       Mainstream\n",
       "2            1003          YOUNG FAMILIES           Budget\n",
       "3            1004   OLDER SINGLES/COUPLES       Mainstream\n",
       "4            1005  MIDAGE SINGLES/COUPLES       Mainstream"
      ]
     },
     "execution_count": 1106,
     "metadata": {},
     "output_type": "execute_result"
    }
   ],
   "source": [
    "cust_data.head()"
   ]
  },
  {
   "cell_type": "code",
   "execution_count": 1107,
   "id": "9dc1bdc8-7ecb-4b13-bd81-fd4ed780c924",
   "metadata": {},
   "outputs": [
    {
     "name": "stdout",
     "output_type": "stream",
     "text": [
      "<class 'pandas.core.frame.DataFrame'>\n",
      "RangeIndex: 72637 entries, 0 to 72636\n",
      "Data columns (total 3 columns):\n",
      " #   Column            Non-Null Count  Dtype \n",
      "---  ------            --------------  ----- \n",
      " 0   LYLTY_CARD_NBR    72637 non-null  int64 \n",
      " 1   LIFESTAGE         72637 non-null  object\n",
      " 2   PREMIUM_CUSTOMER  72637 non-null  object\n",
      "dtypes: int64(1), object(2)\n",
      "memory usage: 1.7+ MB\n"
     ]
    }
   ],
   "source": [
    "cust_data.info()"
   ]
  },
  {
   "cell_type": "markdown",
   "id": "2df5d1c6-ffcf-4492-8f07-a800e0186d8b",
   "metadata": {},
   "source": [
    "### Check for null values"
   ]
  },
  {
   "cell_type": "code",
   "execution_count": 1108,
   "id": "9cc52eae-0eff-45f2-8a96-0f5cf32f1d77",
   "metadata": {},
   "outputs": [
    {
     "data": {
      "text/plain": [
       "0"
      ]
     },
     "execution_count": 1108,
     "metadata": {},
     "output_type": "execute_result"
    }
   ],
   "source": [
    "cust_data.isna().sum().sum()"
   ]
  },
  {
   "cell_type": "markdown",
   "id": "475222e3-7540-4dbe-b4ea-925fa03c126b",
   "metadata": {},
   "source": [
    "So there are no null values."
   ]
  },
  {
   "cell_type": "markdown",
   "id": "1033f26c-4413-401a-9a79-435ade00a30d",
   "metadata": {},
   "source": [
    "### Check duplicate data"
   ]
  },
  {
   "cell_type": "code",
   "execution_count": 1109,
   "id": "587eaf60-e564-45f9-980e-da543714011d",
   "metadata": {},
   "outputs": [
    {
     "data": {
      "text/plain": [
       "0"
      ]
     },
     "execution_count": 1109,
     "metadata": {},
     "output_type": "execute_result"
    }
   ],
   "source": [
    "cust_data.duplicated().sum()"
   ]
  },
  {
   "cell_type": "markdown",
   "id": "9e520faa-630e-4c5c-a1a9-1eb9ff445161",
   "metadata": {},
   "source": [
    "There are no duplicate values."
   ]
  },
  {
   "cell_type": "markdown",
   "id": "c23d0673-09d4-483b-a037-6b500e3850aa",
   "metadata": {},
   "source": [
    "### Changing data to correct format"
   ]
  },
  {
   "cell_type": "markdown",
   "id": "41a08cb4-bc38-48df-96cd-a6dde2c6b5ad",
   "metadata": {},
   "source": [
    "Change the type of `LIFESTAGE`, `PREMIUM_CUSTOMER` to category type"
   ]
  },
  {
   "cell_type": "code",
   "execution_count": 1110,
   "id": "13d2cb30-bad2-4d80-8176-44eada032c25",
   "metadata": {},
   "outputs": [
    {
     "name": "stdout",
     "output_type": "stream",
     "text": [
      "<class 'pandas.core.frame.DataFrame'>\n",
      "RangeIndex: 72637 entries, 0 to 72636\n",
      "Data columns (total 3 columns):\n",
      " #   Column            Non-Null Count  Dtype   \n",
      "---  ------            --------------  -----   \n",
      " 0   LYLTY_CARD_NBR    72637 non-null  int64   \n",
      " 1   LIFESTAGE         72637 non-null  category\n",
      " 2   PREMIUM_CUSTOMER  72637 non-null  category\n",
      "dtypes: category(2), int64(1)\n",
      "memory usage: 709.9 KB\n"
     ]
    }
   ],
   "source": [
    "cust_data[\"LIFESTAGE\"] = cust_data[\"LIFESTAGE\"].astype(\"category\")\n",
    "cust_data[\"PREMIUM_CUSTOMER\"] = cust_data[\"PREMIUM_CUSTOMER\"].astype(\"category\")\n",
    "cust_data.info()"
   ]
  },
  {
   "cell_type": "markdown",
   "id": "92690a36-2374-49e7-a373-ff28a063614d",
   "metadata": {},
   "source": [
    "## Merging the transaction and customer data"
   ]
  },
  {
   "cell_type": "markdown",
   "id": "0fddbd7a-54c2-4b9f-b7d1-d5a6a3c83d70",
   "metadata": {},
   "source": [
    "Merge the transaction and customer data into a single dataset."
   ]
  },
  {
   "cell_type": "code",
   "execution_count": 1111,
   "id": "fef34a1a-9220-4cdd-85fa-e1d082c81d8c",
   "metadata": {},
   "outputs": [],
   "source": [
    "cust_transact_data = pd.merge(cust_data, transact_data, on=\"LYLTY_CARD_NBR\")"
   ]
  },
  {
   "cell_type": "code",
   "execution_count": 1112,
   "id": "327c61c3-4a4d-4d63-9432-b327de163786",
   "metadata": {},
   "outputs": [
    {
     "data": {
      "text/html": [
       "<div>\n",
       "<style scoped>\n",
       "    .dataframe tbody tr th:only-of-type {\n",
       "        vertical-align: middle;\n",
       "    }\n",
       "\n",
       "    .dataframe tbody tr th {\n",
       "        vertical-align: top;\n",
       "    }\n",
       "\n",
       "    .dataframe thead th {\n",
       "        text-align: right;\n",
       "    }\n",
       "</style>\n",
       "<table border=\"1\" class=\"dataframe\">\n",
       "  <thead>\n",
       "    <tr style=\"text-align: right;\">\n",
       "      <th></th>\n",
       "      <th>LYLTY_CARD_NBR</th>\n",
       "      <th>LIFESTAGE</th>\n",
       "      <th>PREMIUM_CUSTOMER</th>\n",
       "      <th>DATE</th>\n",
       "      <th>STORE_NBR</th>\n",
       "      <th>TXN_ID</th>\n",
       "      <th>PROD_NBR</th>\n",
       "      <th>PROD_NAME</th>\n",
       "      <th>PROD_QTY</th>\n",
       "      <th>TOT_SALES</th>\n",
       "    </tr>\n",
       "  </thead>\n",
       "  <tbody>\n",
       "    <tr>\n",
       "      <th>0</th>\n",
       "      <td>1000</td>\n",
       "      <td>YOUNG SINGLES/COUPLES</td>\n",
       "      <td>Premium</td>\n",
       "      <td>2018-10-17</td>\n",
       "      <td>1</td>\n",
       "      <td>1</td>\n",
       "      <td>5</td>\n",
       "      <td>Natural_Chip_Co SeaSalt175g</td>\n",
       "      <td>2</td>\n",
       "      <td>6.0</td>\n",
       "    </tr>\n",
       "    <tr>\n",
       "      <th>1</th>\n",
       "      <td>1002</td>\n",
       "      <td>YOUNG SINGLES/COUPLES</td>\n",
       "      <td>Mainstream</td>\n",
       "      <td>2018-09-16</td>\n",
       "      <td>1</td>\n",
       "      <td>2</td>\n",
       "      <td>58</td>\n",
       "      <td>Red_Rock_Deli Chikn&amp;Garlic Aioli 150g</td>\n",
       "      <td>1</td>\n",
       "      <td>2.7</td>\n",
       "    </tr>\n",
       "    <tr>\n",
       "      <th>2</th>\n",
       "      <td>1003</td>\n",
       "      <td>YOUNG FAMILIES</td>\n",
       "      <td>Budget</td>\n",
       "      <td>2019-03-07</td>\n",
       "      <td>1</td>\n",
       "      <td>3</td>\n",
       "      <td>52</td>\n",
       "      <td>Grain_Waves Sour    Cream&amp;Chives 210G</td>\n",
       "      <td>1</td>\n",
       "      <td>3.6</td>\n",
       "    </tr>\n",
       "    <tr>\n",
       "      <th>3</th>\n",
       "      <td>1003</td>\n",
       "      <td>YOUNG FAMILIES</td>\n",
       "      <td>Budget</td>\n",
       "      <td>2019-03-08</td>\n",
       "      <td>1</td>\n",
       "      <td>4</td>\n",
       "      <td>106</td>\n",
       "      <td>Natural_Chip_Co      Hony Soy Chckn175g</td>\n",
       "      <td>1</td>\n",
       "      <td>3.0</td>\n",
       "    </tr>\n",
       "    <tr>\n",
       "      <th>4</th>\n",
       "      <td>1004</td>\n",
       "      <td>OLDER SINGLES/COUPLES</td>\n",
       "      <td>Mainstream</td>\n",
       "      <td>2018-11-02</td>\n",
       "      <td>1</td>\n",
       "      <td>5</td>\n",
       "      <td>96</td>\n",
       "      <td>Woolworths Original Stacked Chips 160g</td>\n",
       "      <td>1</td>\n",
       "      <td>1.9</td>\n",
       "    </tr>\n",
       "  </tbody>\n",
       "</table>\n",
       "</div>"
      ],
      "text/plain": [
       "   LYLTY_CARD_NBR              LIFESTAGE PREMIUM_CUSTOMER       DATE   \n",
       "0            1000  YOUNG SINGLES/COUPLES          Premium 2018-10-17  \\\n",
       "1            1002  YOUNG SINGLES/COUPLES       Mainstream 2018-09-16   \n",
       "2            1003         YOUNG FAMILIES           Budget 2019-03-07   \n",
       "3            1003         YOUNG FAMILIES           Budget 2019-03-08   \n",
       "4            1004  OLDER SINGLES/COUPLES       Mainstream 2018-11-02   \n",
       "\n",
       "  STORE_NBR  TXN_ID  PROD_NBR                                PROD_NAME   \n",
       "0         1       1         5              Natural_Chip_Co SeaSalt175g  \\\n",
       "1         1       2        58    Red_Rock_Deli Chikn&Garlic Aioli 150g   \n",
       "2         1       3        52    Grain_Waves Sour    Cream&Chives 210G   \n",
       "3         1       4       106  Natural_Chip_Co      Hony Soy Chckn175g   \n",
       "4         1       5        96   Woolworths Original Stacked Chips 160g   \n",
       "\n",
       "   PROD_QTY  TOT_SALES  \n",
       "0         2        6.0  \n",
       "1         1        2.7  \n",
       "2         1        3.6  \n",
       "3         1        3.0  \n",
       "4         1        1.9  "
      ]
     },
     "execution_count": 1112,
     "metadata": {},
     "output_type": "execute_result"
    }
   ],
   "source": [
    "cust_transact_data.head()"
   ]
  },
  {
   "cell_type": "code",
   "execution_count": 1113,
   "id": "d4b51c6b-b1a5-45cd-a771-388f099b09a6",
   "metadata": {},
   "outputs": [
    {
     "name": "stdout",
     "output_type": "stream",
     "text": [
      "<class 'pandas.core.frame.DataFrame'>\n",
      "RangeIndex: 249668 entries, 0 to 249667\n",
      "Data columns (total 10 columns):\n",
      " #   Column            Non-Null Count   Dtype         \n",
      "---  ------            --------------   -----         \n",
      " 0   LYLTY_CARD_NBR    249668 non-null  int64         \n",
      " 1   LIFESTAGE         249668 non-null  category      \n",
      " 2   PREMIUM_CUSTOMER  249668 non-null  category      \n",
      " 3   DATE              249668 non-null  datetime64[ns]\n",
      " 4   STORE_NBR         249668 non-null  category      \n",
      " 5   TXN_ID            249668 non-null  int64         \n",
      " 6   PROD_NBR          249668 non-null  int64         \n",
      " 7   PROD_NAME         249668 non-null  category      \n",
      " 8   PROD_QTY          249668 non-null  int64         \n",
      " 9   TOT_SALES         249668 non-null  float64       \n",
      "dtypes: category(4), datetime64[ns](1), float64(1), int64(4)\n",
      "memory usage: 12.6 MB\n"
     ]
    }
   ],
   "source": [
    "cust_transact_data.info()"
   ]
  },
  {
   "cell_type": "markdown",
   "id": "abb0e3fd-fe62-49df-af69-3f56bb1e1b48",
   "metadata": {},
   "source": [
    "## Data exploration"
   ]
  },
  {
   "cell_type": "code",
   "execution_count": 1114,
   "id": "088edb1f-4acb-401b-8219-831764db06a3",
   "metadata": {},
   "outputs": [],
   "source": [
    "def bar_plots(data_series, x_label, y_label, title):\n",
    "    fig, ax = plt.subplots()\n",
    "    ax = data_series.plot.bar()\n",
    "    ax.set_ylabel(y_label)\n",
    "    ax.set_title(title)\n",
    "    ax.set_xticklabels(x_label, rotation=45, ha='right')"
   ]
  },
  {
   "cell_type": "code",
   "execution_count": 1115,
   "id": "dea489a9-d69e-40d0-94b0-50cd48ae4fd9",
   "metadata": {},
   "outputs": [],
   "source": [
    "def bar_plots_h(data_series, x_label, y_label, title):\n",
    "    fig, ax = plt.subplots()\n",
    "    ax = data_series.plot.barh()\n",
    "    #ax.set_ylabel(y_label)\n",
    "    ax.set_xlabel(x_label)\n",
    "    ax.set_title(title)"
   ]
  },
  {
   "cell_type": "markdown",
   "id": "909151d4-90e9-48f2-9710-cb2094729272",
   "metadata": {},
   "source": [
    "### Total sales by Lifestage"
   ]
  },
  {
   "cell_type": "code",
   "execution_count": 1116,
   "id": "758f4e0f-8fe7-49ef-ac1b-60384211417a",
   "metadata": {},
   "outputs": [
    {
     "data": {
      "image/png": "[encoded data removed]",
      "text/plain": [
       "<Figure size 640x480 with 1 Axes>"
      ]
     },
     "metadata": {},
     "output_type": "display_data"
    }
   ],
   "source": [
    "# fig, ax = plt.subplots()\n",
    "# ax = cust_transact_data.groupby(\"LIFESTAGE\")[\"TOT_SALES\"].sum().sort_values(ascending=False).plot.bar()\n",
    "# ax.set_ylabel(\"Total sales\")\n",
    "# ax.set_title(\"Total sales by Lifestage\")\n",
    "# ax.set_xticks(rotation=45)\n",
    "lifestage_sales_sr = cust_transact_data.groupby(\"LIFESTAGE\")[\"TOT_SALES\"].sum().sort_values(ascending=False)\n",
    "bar_plots(\n",
    "    data_series=lifestage_sales_sr,\n",
    "    x_label=list(lifestage_sales_sr.index),\n",
    "    y_label=\"Total sales\",\n",
    "    title=\"Total sales by Lifestage\"\n",
    ")"
   ]
  },
  {
   "cell_type": "markdown",
   "id": "7e5fd1e1-ce47-43bc-a5b5-e5523cbaf65f",
   "metadata": {},
   "source": [
    "Older singles/couples are largest buyers followed by retires and older families. So older people spend more on chips compared to young in zed supermart."
   ]
  },
  {
   "cell_type": "markdown",
   "id": "8b6acb21-81bd-435a-ad01-7175bb9ef11f",
   "metadata": {},
   "source": [
    "### Total sales by customer type"
   ]
  },
  {
   "cell_type": "code",
   "execution_count": 1117,
   "id": "7831568b-2725-4c10-a05c-2c0042563bff",
   "metadata": {},
   "outputs": [
    {
     "data": {
      "image/png": "[encoded data removed]",
      "text/plain": [
       "<Figure size 640x480 with 1 Axes>"
      ]
     },
     "metadata": {},
     "output_type": "display_data"
    }
   ],
   "source": [
    "cust_type_sales_sr = cust_transact_data.groupby(\"PREMIUM_CUSTOMER\")[\"TOT_SALES\"].sum().sort_values(ascending=False)\n",
    "cust_type_sales_sr.index.name=\"Customer Type\"\n",
    "bar_plots(\n",
    "    data_series=cust_type_sales_sr,\n",
    "    x_label=list(cust_type_sales_sr.index),\n",
    "    y_label=\"sales\",\n",
    "    title=\"Total sales by customer type\"\n",
    ")"
   ]
  },
  {
   "cell_type": "markdown",
   "id": "cf33c293-d554-48dd-8856-a975b6f05f26",
   "metadata": {},
   "source": [
    "Mainstream customers are largest buyers."
   ]
  },
  {
   "cell_type": "markdown",
   "id": "6a1adc62-4a82-496f-b286-2ce0c12d6763",
   "metadata": {},
   "source": [
    "### Total sales by product "
   ]
  },
  {
   "cell_type": "code",
   "execution_count": 1118,
   "id": "28c21462-b157-425d-bc08-5e20dbc038bb",
   "metadata": {},
   "outputs": [
    {
     "data": {
      "image/png": "[encoded data removed]",
      "text/plain": [
       "<Figure size 640x480 with 1 Axes>"
      ]
     },
     "metadata": {},
     "output_type": "display_data"
    }
   ],
   "source": [
    "prod_sales_sr = cust_transact_data.groupby(\"PROD_NAME\")[\"TOT_SALES\"].sum().sort_values(ascending=False).head(10)\n",
    "prod_sales_sr.index.name=\"Product Name\"\n",
    "bar_plots_h(\n",
    "    data_series=prod_sales_sr,\n",
    "    y_label=list(prod_sales_sr.index),\n",
    "    x_label=\"sales\",\n",
    "    title=\"Total sales by product (Top 10)\",\n",
    ")"
   ]
  },
  {
   "cell_type": "markdown",
   "id": "0efb6627-a3e5-409d-ade2-f9e5a3080fde",
   "metadata": {},
   "source": [
    "Dorito Corn Chp Supreme 380g chips generate most sales."
   ]
  },
  {
   "cell_type": "markdown",
   "id": "91cb616f-5ada-420c-b939-381d23085613",
   "metadata": {},
   "source": [
    "### Total sales by store number"
   ]
  },
  {
   "cell_type": "code",
   "execution_count": 1119,
   "id": "8c9ff6ed-dde3-4171-8a0a-8786cd433d0d",
   "metadata": {},
   "outputs": [
    {
     "data": {
      "image/png": "[encoded data removed]",
      "text/plain": [
       "<Figure size 640x480 with 1 Axes>"
      ]
     },
     "metadata": {},
     "output_type": "display_data"
    }
   ],
   "source": [
    "store_num_sales_sr = cust_transact_data.groupby(\"STORE_NBR\")[\"TOT_SALES\"].sum().sort_values(ascending=False).head(10)\n",
    "store_num_sales_sr.index.name=\"Store Number\"\n",
    "bar_plots_h(\n",
    "    data_series=store_num_sales_sr,\n",
    "    y_label=list(store_num_sales_sr.index),\n",
    "    x_label=\"sales\",\n",
    "    title=\"Total sales by store number\",\n",
    ")"
   ]
  },
  {
   "cell_type": "markdown",
   "id": "aafdf0c4-cf2a-415f-99ab-6b4e9ffad350",
   "metadata": {},
   "source": [
    "### Total sales by date"
   ]
  },
  {
   "cell_type": "code",
   "execution_count": 1120,
   "id": "8ca8e772-b396-4487-8256-8f21882b3b4e",
   "metadata": {},
   "outputs": [
    {
     "data": {
      "image/png": "[encoded data removed]",
      "text/plain": [
       "<Figure size 640x480 with 1 Axes>"
      ]
     },
     "metadata": {},
     "output_type": "display_data"
    }
   ],
   "source": [
    "date_sales_sr = cust_transact_data.groupby(\"DATE\")[\"TOT_SALES\"].sum().sort_values(ascending=False).head(20)\n",
    "\n",
    "bar_plots_h(\n",
    "    data_series=date_sales_sr,\n",
    "    y_label=list(date_sales_sr.index),\n",
    "    x_label=\"sales\",\n",
    "    title=\"Total sales by Date (Top 10)\",\n",
    ")"
   ]
  },
  {
   "cell_type": "markdown",
   "id": "df84dd6e-b859-4a52-8fc3-d836395c4815",
   "metadata": {},
   "source": [
    "So most of the sales are in the 2nd half of december, during christmas."
   ]
  },
  {
   "cell_type": "code",
   "execution_count": 1121,
   "id": "2d2f9fb7-6f98-41cf-a4bf-733472055f37",
   "metadata": {},
   "outputs": [
    {
     "data": {
      "text/plain": [
       "PROD_NAME\n",
       "Kettle             41288\n",
       "Smiths             31823\n",
       "Doritos            25224\n",
       "Pringles           25102\n",
       "Red_Rock_Deli      17779\n",
       "Thins              14075\n",
       "Woolworths         11836\n",
       "Infuzions          11057\n",
       "Cobs                9693\n",
       "Tostitos            9471\n",
       "Twisties            9454\n",
       "Grain_Waves         7740\n",
       "Natural_Chip_Co     7469\n",
       "Tyrrells            6442\n",
       "Cheezels            4603\n",
       "CCs                 4551\n",
       "Infzns              3144\n",
       "Sunbites            3008\n",
       "Cheetos             2927\n",
       "Burger              1564\n",
       "French_Fries        1418\n",
       "Name: count, dtype: int64"
      ]
     },
     "execution_count": 1121,
     "metadata": {},
     "output_type": "execute_result"
    }
   ],
   "source": [
    "cust_transact_data[\"PROD_NAME\"].apply(lambda x: x.split(\" \")[0]).value_counts()"
   ]
  },
  {
   "cell_type": "code",
   "execution_count": 1122,
   "id": "ba5328ec-2171-42e3-935a-6ffabb77e216",
   "metadata": {},
   "outputs": [
    {
     "data": {
      "text/plain": [
       "0                       Natural_Chip_Co SeaSalt175g\n",
       "1             Red_Rock_Deli Chikn&Garlic Aioli 150g\n",
       "2             Grain_Waves Sour    Cream&Chives 210G\n",
       "3           Natural_Chip_Co      Hony Soy Chckn175g\n",
       "4            Woolworths Original Stacked Chips 160g\n",
       "5                                Cheetos Puffs 165g\n",
       "6          Infuzions SourCream&Herbs Veg Strws 110g\n",
       "7     Red_Rock_Deli SR Slow Rst     Pork Belly 150g\n",
       "8                  Doritos Cheese      Supreme 330g\n",
       "9                          Doritos Mexicana    170g\n",
       "10        Grain_Waves Plus Btroot & Chilli Jam 180g\n",
       "11         Infuzions SourCream&Herbs Veg Strws 110g\n",
       "12          Smiths Crinkle Cut  Chips Barbecue 170g\n",
       "13                 Doritos Cheese      Supreme 330g\n",
       "14         Kettle Sensations   Camembert & Fig 150g\n",
       "15          Doritos Corn Chip Southern Chicken 150g\n",
       "16                         CCs Tasty Cheese    175g\n",
       "17                    Tostitos Splash Of  Lime 175g\n",
       "18                     Kettle 135g Swt Pot Sea Salt\n",
       "19         Kettle Sensations   Camembert & Fig 150g\n",
       "20               Red_Rock_Deli Salt & Vinegar  165g\n",
       "21          Infuzions Mango     Chutny Papadums 70g\n",
       "22        Grain_Waves Plus Btroot & Chilli Jam 180g\n",
       "23              Smiths Crinkle Cut  Snag&Sauce 150g\n",
       "24                Smiths Crinkle      Original 330g\n",
       "Name: PROD_NAME, dtype: category\n",
       "Categories (107, object): ['Burger Rings 220g', 'CCs Nacho Cheese    175g', 'CCs Original 175g', 'CCs Tasty Cheese    175g', ..., 'Woolworths Original Corn    Chips 200g', 'Woolworths Original Stacked Chips 160g', 'Woolworths Sour Cream &OnionStacked Chips 160g', 'Woolworths Supreme Cheese   Corn Chips 200g']"
      ]
     },
     "execution_count": 1122,
     "metadata": {},
     "output_type": "execute_result"
    }
   ],
   "source": [
    "cust_transact_data[\"PROD_NAME\"].head(25)"
   ]
  },
  {
   "cell_type": "code",
   "execution_count": null,
   "id": "47000e3b-3b3e-4017-bf0e-438d6ea4c393",
   "metadata": {},
   "outputs": [],
   "source": []
  }
 ],
 "metadata": {
  "kernelspec": {
   "display_name": "Python 3 (ipykernel)",
   "language": "python",
   "name": "python3"
  },
  "language_info": {
   "codemirror_mode": {
    "name": "ipython",
    "version": 3
   },
   "file_extension": ".py",
   "mimetype": "text/x-python",
   "name": "python",
   "nbconvert_exporter": "python",
   "pygments_lexer": "ipython3",
   "version": "3.10.4"
  }
 },
 "nbformat": 4,
 "nbformat_minor": 5
}
